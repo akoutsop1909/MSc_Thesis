{
 "cells": [
  {
   "cell_type": "markdown",
   "source": [
    "#### Import packages"
   ],
   "metadata": {
    "collapsed": false
   }
  },
  {
   "cell_type": "code",
   "execution_count": 1,
   "outputs": [],
   "source": [
    "import pandas as pd\n",
    "import os"
   ],
   "metadata": {
    "collapsed": false
   }
  },
  {
   "cell_type": "markdown",
   "source": [
    "#### Define functions"
   ],
   "metadata": {
    "collapsed": false
   }
  },
  {
   "cell_type": "code",
   "execution_count": 2,
   "outputs": [],
   "source": [
    "def save_diode(type):\n",
    "    \"\"\"Saves a DIODE csv file of either 'train' or 'val' data for BANet training.\"\"\"\n",
    "    df = pd.read_csv(type + '_outdoor.csv', header=None)\n",
    "    df = df.drop(df.columns[[2, 3]], axis=1)\n",
    "    df.columns = ['raw_path', 'depth_path']\n",
    "    df['raw_path'] = df['raw_path'].str[1:]\n",
    "    df['depth_path'] = df['depth_path'].str[1:]\n",
    "    df = '/workspace/DIODE' + df\n",
    "    df.to_csv('diode_' + type + '.csv', index=False)"
   ],
   "metadata": {
    "collapsed": false
   }
  },
  {
   "cell_type": "markdown",
   "source": [
    "#### Create BANet csv files"
   ],
   "metadata": {
    "collapsed": false
   }
  },
  {
   "cell_type": "code",
   "execution_count": 3,
   "metadata": {
    "collapsed": true
   },
   "outputs": [],
   "source": [
    "os.chdir('D:\\\\Informatics\\\\Μεταπτυχιακό\\\\Εξάμηνο Γ\\\\dataset\\\\DIODE')\n",
    "\n",
    "# call the function for 'train' and 'val' data\n",
    "save_diode('train')\n",
    "save_diode('val')"
   ]
  },
  {
   "cell_type": "markdown",
   "source": [
    "#### Display the files"
   ],
   "metadata": {
    "collapsed": false
   }
  },
  {
   "cell_type": "code",
   "execution_count": 4,
   "outputs": [
    {
     "data": {
      "text/plain": "                                                raw_path  \\\n0      /workspace/DIODE/train/outdoor/scene_00007/sca...   \n1      /workspace/DIODE/train/outdoor/scene_00007/sca...   \n2      /workspace/DIODE/train/outdoor/scene_00007/sca...   \n3      /workspace/DIODE/train/outdoor/scene_00007/sca...   \n4      /workspace/DIODE/train/outdoor/scene_00007/sca...   \n...                                                  ...   \n16879  /workspace/DIODE/train/outdoor/scene_00018/sca...   \n16880  /workspace/DIODE/train/outdoor/scene_00018/sca...   \n16881  /workspace/DIODE/train/outdoor/scene_00018/sca...   \n16882  /workspace/DIODE/train/outdoor/scene_00018/sca...   \n16883  /workspace/DIODE/train/outdoor/scene_00018/sca...   \n\n                                              depth_path  \n0      /workspace/DIODE/train/outdoor/scene_00007/sca...  \n1      /workspace/DIODE/train/outdoor/scene_00007/sca...  \n2      /workspace/DIODE/train/outdoor/scene_00007/sca...  \n3      /workspace/DIODE/train/outdoor/scene_00007/sca...  \n4      /workspace/DIODE/train/outdoor/scene_00007/sca...  \n...                                                  ...  \n16879  /workspace/DIODE/train/outdoor/scene_00018/sca...  \n16880  /workspace/DIODE/train/outdoor/scene_00018/sca...  \n16881  /workspace/DIODE/train/outdoor/scene_00018/sca...  \n16882  /workspace/DIODE/train/outdoor/scene_00018/sca...  \n16883  /workspace/DIODE/train/outdoor/scene_00018/sca...  \n\n[16884 rows x 2 columns]",
      "text/html": "<div>\n<style scoped>\n    .dataframe tbody tr th:only-of-type {\n        vertical-align: middle;\n    }\n\n    .dataframe tbody tr th {\n        vertical-align: top;\n    }\n\n    .dataframe thead th {\n        text-align: right;\n    }\n</style>\n<table border=\"1\" class=\"dataframe\">\n  <thead>\n    <tr style=\"text-align: right;\">\n      <th></th>\n      <th>raw_path</th>\n      <th>depth_path</th>\n    </tr>\n  </thead>\n  <tbody>\n    <tr>\n      <th>0</th>\n      <td>/workspace/DIODE/train/outdoor/scene_00007/sca...</td>\n      <td>/workspace/DIODE/train/outdoor/scene_00007/sca...</td>\n    </tr>\n    <tr>\n      <th>1</th>\n      <td>/workspace/DIODE/train/outdoor/scene_00007/sca...</td>\n      <td>/workspace/DIODE/train/outdoor/scene_00007/sca...</td>\n    </tr>\n    <tr>\n      <th>2</th>\n      <td>/workspace/DIODE/train/outdoor/scene_00007/sca...</td>\n      <td>/workspace/DIODE/train/outdoor/scene_00007/sca...</td>\n    </tr>\n    <tr>\n      <th>3</th>\n      <td>/workspace/DIODE/train/outdoor/scene_00007/sca...</td>\n      <td>/workspace/DIODE/train/outdoor/scene_00007/sca...</td>\n    </tr>\n    <tr>\n      <th>4</th>\n      <td>/workspace/DIODE/train/outdoor/scene_00007/sca...</td>\n      <td>/workspace/DIODE/train/outdoor/scene_00007/sca...</td>\n    </tr>\n    <tr>\n      <th>...</th>\n      <td>...</td>\n      <td>...</td>\n    </tr>\n    <tr>\n      <th>16879</th>\n      <td>/workspace/DIODE/train/outdoor/scene_00018/sca...</td>\n      <td>/workspace/DIODE/train/outdoor/scene_00018/sca...</td>\n    </tr>\n    <tr>\n      <th>16880</th>\n      <td>/workspace/DIODE/train/outdoor/scene_00018/sca...</td>\n      <td>/workspace/DIODE/train/outdoor/scene_00018/sca...</td>\n    </tr>\n    <tr>\n      <th>16881</th>\n      <td>/workspace/DIODE/train/outdoor/scene_00018/sca...</td>\n      <td>/workspace/DIODE/train/outdoor/scene_00018/sca...</td>\n    </tr>\n    <tr>\n      <th>16882</th>\n      <td>/workspace/DIODE/train/outdoor/scene_00018/sca...</td>\n      <td>/workspace/DIODE/train/outdoor/scene_00018/sca...</td>\n    </tr>\n    <tr>\n      <th>16883</th>\n      <td>/workspace/DIODE/train/outdoor/scene_00018/sca...</td>\n      <td>/workspace/DIODE/train/outdoor/scene_00018/sca...</td>\n    </tr>\n  </tbody>\n</table>\n<p>16884 rows × 2 columns</p>\n</div>"
     },
     "metadata": {},
     "output_type": "display_data"
    },
    {
     "data": {
      "text/plain": "                                              raw_path  \\\n0    /workspace/DIODE/val/outdoor/scene_00022/scan_...   \n1    /workspace/DIODE/val/outdoor/scene_00022/scan_...   \n2    /workspace/DIODE/val/outdoor/scene_00022/scan_...   \n3    /workspace/DIODE/val/outdoor/scene_00022/scan_...   \n4    /workspace/DIODE/val/outdoor/scene_00022/scan_...   \n..                                                 ...   \n441  /workspace/DIODE/val/outdoor/scene_00024/scan_...   \n442  /workspace/DIODE/val/outdoor/scene_00024/scan_...   \n443  /workspace/DIODE/val/outdoor/scene_00024/scan_...   \n444  /workspace/DIODE/val/outdoor/scene_00024/scan_...   \n445  /workspace/DIODE/val/outdoor/scene_00024/scan_...   \n\n                                            depth_path  \n0    /workspace/DIODE/val/outdoor/scene_00022/scan_...  \n1    /workspace/DIODE/val/outdoor/scene_00022/scan_...  \n2    /workspace/DIODE/val/outdoor/scene_00022/scan_...  \n3    /workspace/DIODE/val/outdoor/scene_00022/scan_...  \n4    /workspace/DIODE/val/outdoor/scene_00022/scan_...  \n..                                                 ...  \n441  /workspace/DIODE/val/outdoor/scene_00024/scan_...  \n442  /workspace/DIODE/val/outdoor/scene_00024/scan_...  \n443  /workspace/DIODE/val/outdoor/scene_00024/scan_...  \n444  /workspace/DIODE/val/outdoor/scene_00024/scan_...  \n445  /workspace/DIODE/val/outdoor/scene_00024/scan_...  \n\n[446 rows x 2 columns]",
      "text/html": "<div>\n<style scoped>\n    .dataframe tbody tr th:only-of-type {\n        vertical-align: middle;\n    }\n\n    .dataframe tbody tr th {\n        vertical-align: top;\n    }\n\n    .dataframe thead th {\n        text-align: right;\n    }\n</style>\n<table border=\"1\" class=\"dataframe\">\n  <thead>\n    <tr style=\"text-align: right;\">\n      <th></th>\n      <th>raw_path</th>\n      <th>depth_path</th>\n    </tr>\n  </thead>\n  <tbody>\n    <tr>\n      <th>0</th>\n      <td>/workspace/DIODE/val/outdoor/scene_00022/scan_...</td>\n      <td>/workspace/DIODE/val/outdoor/scene_00022/scan_...</td>\n    </tr>\n    <tr>\n      <th>1</th>\n      <td>/workspace/DIODE/val/outdoor/scene_00022/scan_...</td>\n      <td>/workspace/DIODE/val/outdoor/scene_00022/scan_...</td>\n    </tr>\n    <tr>\n      <th>2</th>\n      <td>/workspace/DIODE/val/outdoor/scene_00022/scan_...</td>\n      <td>/workspace/DIODE/val/outdoor/scene_00022/scan_...</td>\n    </tr>\n    <tr>\n      <th>3</th>\n      <td>/workspace/DIODE/val/outdoor/scene_00022/scan_...</td>\n      <td>/workspace/DIODE/val/outdoor/scene_00022/scan_...</td>\n    </tr>\n    <tr>\n      <th>4</th>\n      <td>/workspace/DIODE/val/outdoor/scene_00022/scan_...</td>\n      <td>/workspace/DIODE/val/outdoor/scene_00022/scan_...</td>\n    </tr>\n    <tr>\n      <th>...</th>\n      <td>...</td>\n      <td>...</td>\n    </tr>\n    <tr>\n      <th>441</th>\n      <td>/workspace/DIODE/val/outdoor/scene_00024/scan_...</td>\n      <td>/workspace/DIODE/val/outdoor/scene_00024/scan_...</td>\n    </tr>\n    <tr>\n      <th>442</th>\n      <td>/workspace/DIODE/val/outdoor/scene_00024/scan_...</td>\n      <td>/workspace/DIODE/val/outdoor/scene_00024/scan_...</td>\n    </tr>\n    <tr>\n      <th>443</th>\n      <td>/workspace/DIODE/val/outdoor/scene_00024/scan_...</td>\n      <td>/workspace/DIODE/val/outdoor/scene_00024/scan_...</td>\n    </tr>\n    <tr>\n      <th>444</th>\n      <td>/workspace/DIODE/val/outdoor/scene_00024/scan_...</td>\n      <td>/workspace/DIODE/val/outdoor/scene_00024/scan_...</td>\n    </tr>\n    <tr>\n      <th>445</th>\n      <td>/workspace/DIODE/val/outdoor/scene_00024/scan_...</td>\n      <td>/workspace/DIODE/val/outdoor/scene_00024/scan_...</td>\n    </tr>\n  </tbody>\n</table>\n<p>446 rows × 2 columns</p>\n</div>"
     },
     "metadata": {},
     "output_type": "display_data"
    }
   ],
   "source": [
    "os.chdir('D:\\\\Informatics\\\\Μεταπτυχιακό\\\\Εξάμηνο Γ\\\\dataset\\\\DIODE')\n",
    "\n",
    "display(pd.read_csv('diode_train.csv'))\n",
    "display(pd.read_csv('diode_val.csv'))"
   ],
   "metadata": {
    "collapsed": false
   }
  },
  {
   "cell_type": "markdown",
   "source": [
    "#### Create KITTI depth selection csv file"
   ],
   "metadata": {
    "collapsed": false
   }
  },
  {
   "cell_type": "code",
   "execution_count": 16,
   "outputs": [
    {
     "data": {
      "text/plain": "'2011_09_26_drive_0002_sync_groundtruth_depth_0000000008_image_03.png'"
     },
     "execution_count": 16,
     "metadata": {},
     "output_type": "execute_result"
    }
   ],
   "source": [
    "os.chdir('D:\\\\Informatics\\\\Μεταπτυχιακό\\\\Εξάμηνο Γ\\\\dataset\\\\KITTI')\n",
    "\n",
    "files_raw = os.listdir('depth_selection\\\\val_selection_cropped\\\\image')\n",
    "files_depth = os.listdir('depth_selection\\\\val_selection_cropped\\\\groundtruth_depth')"
   ],
   "metadata": {
    "collapsed": false
   }
  },
  {
   "cell_type": "code",
   "execution_count": null,
   "outputs": [],
   "source": [],
   "metadata": {
    "collapsed": false
   }
  }
 ],
 "metadata": {
  "kernelspec": {
   "display_name": "Python 3",
   "language": "python",
   "name": "python3"
  },
  "language_info": {
   "codemirror_mode": {
    "name": "ipython",
    "version": 2
   },
   "file_extension": ".py",
   "mimetype": "text/x-python",
   "name": "python",
   "nbconvert_exporter": "python",
   "pygments_lexer": "ipython2",
   "version": "2.7.6"
  }
 },
 "nbformat": 4,
 "nbformat_minor": 0
}
