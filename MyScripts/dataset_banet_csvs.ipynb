{
 "cells": [
  {
   "cell_type": "markdown",
   "source": [
    "#### Import packages"
   ],
   "metadata": {
    "collapsed": false
   }
  },
  {
   "cell_type": "code",
   "execution_count": 1,
   "outputs": [],
   "source": [
    "import pandas as pd\n",
    "import os\n",
    "import cv2\n",
    "from PIL import Image\n",
    "import numpy as np"
   ],
   "metadata": {
    "collapsed": false,
    "ExecuteTime": {
     "end_time": "2023-10-21T09:41:08.228175800Z",
     "start_time": "2023-10-21T09:41:07.934609700Z"
    }
   }
  },
  {
   "cell_type": "markdown",
   "source": [
    "#### Define functions"
   ],
   "metadata": {
    "collapsed": false
   }
  },
  {
   "cell_type": "code",
   "execution_count": 2,
   "outputs": [],
   "source": [
    "def save_diode(type):\n",
    "    \"\"\"Saves a DIODE csv file of either 'train' or 'val' data for BANet training.\"\"\"\n",
    "    df = pd.read_csv(type + '_outdoor.csv', header=None)\n",
    "    df = df.drop(df.columns[[2, 3]], axis=1)\n",
    "    df.columns = ['raw_path', 'depth_path']\n",
    "    df['raw_path'] = df['raw_path'].str[1:]\n",
    "    df['depth_path'] = df['depth_path'].str[1:]\n",
    "    df = '/workspace/DIODE' + df\n",
    "    df.to_csv('diode_' + type + '.csv', index=False)"
   ],
   "metadata": {
    "collapsed": false
   }
  },
  {
   "cell_type": "markdown",
   "source": [
    "#### Create DIODE csv files"
   ],
   "metadata": {
    "collapsed": false
   }
  },
  {
   "cell_type": "code",
   "execution_count": 3,
   "metadata": {
    "collapsed": true
   },
   "outputs": [],
   "source": [
    "os.chdir('D:\\\\Informatics\\\\Μεταπτυχιακό\\\\Εξάμηνο Γ\\\\dataset\\\\DIODE')\n",
    "\n",
    "# call the function for 'train' and 'val' data\n",
    "save_diode('train')\n",
    "save_diode('val')"
   ]
  },
  {
   "cell_type": "markdown",
   "source": [
    "#### Display the files"
   ],
   "metadata": {
    "collapsed": false
   }
  },
  {
   "cell_type": "code",
   "execution_count": 4,
   "outputs": [
    {
     "data": {
      "text/plain": "                                                raw_path  \\\n0      /workspace/DIODE/train/outdoor/scene_00007/sca...   \n1      /workspace/DIODE/train/outdoor/scene_00007/sca...   \n2      /workspace/DIODE/train/outdoor/scene_00007/sca...   \n3      /workspace/DIODE/train/outdoor/scene_00007/sca...   \n4      /workspace/DIODE/train/outdoor/scene_00007/sca...   \n...                                                  ...   \n16879  /workspace/DIODE/train/outdoor/scene_00018/sca...   \n16880  /workspace/DIODE/train/outdoor/scene_00018/sca...   \n16881  /workspace/DIODE/train/outdoor/scene_00018/sca...   \n16882  /workspace/DIODE/train/outdoor/scene_00018/sca...   \n16883  /workspace/DIODE/train/outdoor/scene_00018/sca...   \n\n                                              depth_path  \n0      /workspace/DIODE/train/outdoor/scene_00007/sca...  \n1      /workspace/DIODE/train/outdoor/scene_00007/sca...  \n2      /workspace/DIODE/train/outdoor/scene_00007/sca...  \n3      /workspace/DIODE/train/outdoor/scene_00007/sca...  \n4      /workspace/DIODE/train/outdoor/scene_00007/sca...  \n...                                                  ...  \n16879  /workspace/DIODE/train/outdoor/scene_00018/sca...  \n16880  /workspace/DIODE/train/outdoor/scene_00018/sca...  \n16881  /workspace/DIODE/train/outdoor/scene_00018/sca...  \n16882  /workspace/DIODE/train/outdoor/scene_00018/sca...  \n16883  /workspace/DIODE/train/outdoor/scene_00018/sca...  \n\n[16884 rows x 2 columns]",
      "text/html": "<div>\n<style scoped>\n    .dataframe tbody tr th:only-of-type {\n        vertical-align: middle;\n    }\n\n    .dataframe tbody tr th {\n        vertical-align: top;\n    }\n\n    .dataframe thead th {\n        text-align: right;\n    }\n</style>\n<table border=\"1\" class=\"dataframe\">\n  <thead>\n    <tr style=\"text-align: right;\">\n      <th></th>\n      <th>raw_path</th>\n      <th>depth_path</th>\n    </tr>\n  </thead>\n  <tbody>\n    <tr>\n      <th>0</th>\n      <td>/workspace/DIODE/train/outdoor/scene_00007/sca...</td>\n      <td>/workspace/DIODE/train/outdoor/scene_00007/sca...</td>\n    </tr>\n    <tr>\n      <th>1</th>\n      <td>/workspace/DIODE/train/outdoor/scene_00007/sca...</td>\n      <td>/workspace/DIODE/train/outdoor/scene_00007/sca...</td>\n    </tr>\n    <tr>\n      <th>2</th>\n      <td>/workspace/DIODE/train/outdoor/scene_00007/sca...</td>\n      <td>/workspace/DIODE/train/outdoor/scene_00007/sca...</td>\n    </tr>\n    <tr>\n      <th>3</th>\n      <td>/workspace/DIODE/train/outdoor/scene_00007/sca...</td>\n      <td>/workspace/DIODE/train/outdoor/scene_00007/sca...</td>\n    </tr>\n    <tr>\n      <th>4</th>\n      <td>/workspace/DIODE/train/outdoor/scene_00007/sca...</td>\n      <td>/workspace/DIODE/train/outdoor/scene_00007/sca...</td>\n    </tr>\n    <tr>\n      <th>...</th>\n      <td>...</td>\n      <td>...</td>\n    </tr>\n    <tr>\n      <th>16879</th>\n      <td>/workspace/DIODE/train/outdoor/scene_00018/sca...</td>\n      <td>/workspace/DIODE/train/outdoor/scene_00018/sca...</td>\n    </tr>\n    <tr>\n      <th>16880</th>\n      <td>/workspace/DIODE/train/outdoor/scene_00018/sca...</td>\n      <td>/workspace/DIODE/train/outdoor/scene_00018/sca...</td>\n    </tr>\n    <tr>\n      <th>16881</th>\n      <td>/workspace/DIODE/train/outdoor/scene_00018/sca...</td>\n      <td>/workspace/DIODE/train/outdoor/scene_00018/sca...</td>\n    </tr>\n    <tr>\n      <th>16882</th>\n      <td>/workspace/DIODE/train/outdoor/scene_00018/sca...</td>\n      <td>/workspace/DIODE/train/outdoor/scene_00018/sca...</td>\n    </tr>\n    <tr>\n      <th>16883</th>\n      <td>/workspace/DIODE/train/outdoor/scene_00018/sca...</td>\n      <td>/workspace/DIODE/train/outdoor/scene_00018/sca...</td>\n    </tr>\n  </tbody>\n</table>\n<p>16884 rows × 2 columns</p>\n</div>"
     },
     "metadata": {},
     "output_type": "display_data"
    },
    {
     "data": {
      "text/plain": "                                              raw_path  \\\n0    /workspace/DIODE/val/outdoor/scene_00022/scan_...   \n1    /workspace/DIODE/val/outdoor/scene_00022/scan_...   \n2    /workspace/DIODE/val/outdoor/scene_00022/scan_...   \n3    /workspace/DIODE/val/outdoor/scene_00022/scan_...   \n4    /workspace/DIODE/val/outdoor/scene_00022/scan_...   \n..                                                 ...   \n441  /workspace/DIODE/val/outdoor/scene_00024/scan_...   \n442  /workspace/DIODE/val/outdoor/scene_00024/scan_...   \n443  /workspace/DIODE/val/outdoor/scene_00024/scan_...   \n444  /workspace/DIODE/val/outdoor/scene_00024/scan_...   \n445  /workspace/DIODE/val/outdoor/scene_00024/scan_...   \n\n                                            depth_path  \n0    /workspace/DIODE/val/outdoor/scene_00022/scan_...  \n1    /workspace/DIODE/val/outdoor/scene_00022/scan_...  \n2    /workspace/DIODE/val/outdoor/scene_00022/scan_...  \n3    /workspace/DIODE/val/outdoor/scene_00022/scan_...  \n4    /workspace/DIODE/val/outdoor/scene_00022/scan_...  \n..                                                 ...  \n441  /workspace/DIODE/val/outdoor/scene_00024/scan_...  \n442  /workspace/DIODE/val/outdoor/scene_00024/scan_...  \n443  /workspace/DIODE/val/outdoor/scene_00024/scan_...  \n444  /workspace/DIODE/val/outdoor/scene_00024/scan_...  \n445  /workspace/DIODE/val/outdoor/scene_00024/scan_...  \n\n[446 rows x 2 columns]",
      "text/html": "<div>\n<style scoped>\n    .dataframe tbody tr th:only-of-type {\n        vertical-align: middle;\n    }\n\n    .dataframe tbody tr th {\n        vertical-align: top;\n    }\n\n    .dataframe thead th {\n        text-align: right;\n    }\n</style>\n<table border=\"1\" class=\"dataframe\">\n  <thead>\n    <tr style=\"text-align: right;\">\n      <th></th>\n      <th>raw_path</th>\n      <th>depth_path</th>\n    </tr>\n  </thead>\n  <tbody>\n    <tr>\n      <th>0</th>\n      <td>/workspace/DIODE/val/outdoor/scene_00022/scan_...</td>\n      <td>/workspace/DIODE/val/outdoor/scene_00022/scan_...</td>\n    </tr>\n    <tr>\n      <th>1</th>\n      <td>/workspace/DIODE/val/outdoor/scene_00022/scan_...</td>\n      <td>/workspace/DIODE/val/outdoor/scene_00022/scan_...</td>\n    </tr>\n    <tr>\n      <th>2</th>\n      <td>/workspace/DIODE/val/outdoor/scene_00022/scan_...</td>\n      <td>/workspace/DIODE/val/outdoor/scene_00022/scan_...</td>\n    </tr>\n    <tr>\n      <th>3</th>\n      <td>/workspace/DIODE/val/outdoor/scene_00022/scan_...</td>\n      <td>/workspace/DIODE/val/outdoor/scene_00022/scan_...</td>\n    </tr>\n    <tr>\n      <th>4</th>\n      <td>/workspace/DIODE/val/outdoor/scene_00022/scan_...</td>\n      <td>/workspace/DIODE/val/outdoor/scene_00022/scan_...</td>\n    </tr>\n    <tr>\n      <th>...</th>\n      <td>...</td>\n      <td>...</td>\n    </tr>\n    <tr>\n      <th>441</th>\n      <td>/workspace/DIODE/val/outdoor/scene_00024/scan_...</td>\n      <td>/workspace/DIODE/val/outdoor/scene_00024/scan_...</td>\n    </tr>\n    <tr>\n      <th>442</th>\n      <td>/workspace/DIODE/val/outdoor/scene_00024/scan_...</td>\n      <td>/workspace/DIODE/val/outdoor/scene_00024/scan_...</td>\n    </tr>\n    <tr>\n      <th>443</th>\n      <td>/workspace/DIODE/val/outdoor/scene_00024/scan_...</td>\n      <td>/workspace/DIODE/val/outdoor/scene_00024/scan_...</td>\n    </tr>\n    <tr>\n      <th>444</th>\n      <td>/workspace/DIODE/val/outdoor/scene_00024/scan_...</td>\n      <td>/workspace/DIODE/val/outdoor/scene_00024/scan_...</td>\n    </tr>\n    <tr>\n      <th>445</th>\n      <td>/workspace/DIODE/val/outdoor/scene_00024/scan_...</td>\n      <td>/workspace/DIODE/val/outdoor/scene_00024/scan_...</td>\n    </tr>\n  </tbody>\n</table>\n<p>446 rows × 2 columns</p>\n</div>"
     },
     "metadata": {},
     "output_type": "display_data"
    }
   ],
   "source": [
    "os.chdir('D:\\\\Informatics\\\\Μεταπτυχιακό\\\\Εξάμηνο Γ\\\\dataset\\\\DIODE')\n",
    "\n",
    "display(pd.read_csv('diode_train.csv'))\n",
    "display(pd.read_csv('diode_val.csv'))"
   ],
   "metadata": {
    "collapsed": false
   }
  },
  {
   "cell_type": "markdown",
   "source": [
    "#### Create KITTI depth selection csv file"
   ],
   "metadata": {
    "collapsed": false
   }
  },
  {
   "cell_type": "code",
   "execution_count": 18,
   "outputs": [],
   "source": [
    "os.chdir('D:\\\\Informatics\\\\Μεταπτυχιακό\\\\Εξάμηνο Γ\\\\dataset\\\\KITTI')\n",
    "\n",
    "files_raw = os.listdir('depth_selection\\\\val_selection_cropped\\\\image')\n",
    "files_depth = os.listdir('selection_npy')\n",
    "df = pd.DataFrame({'raw_path':files_raw, 'depth_path':files_depth})\n",
    "df['raw_path'] = '/workspace/kitti_selection/selection_image/' + df['raw_path']\n",
    "df['depth_path'] = '/workspace/kitti_selection/selection_npy/' + df['depth_path']\n",
    "df.to_csv('kitti_selection.csv', index=False)"
   ],
   "metadata": {
    "collapsed": false
   }
  },
  {
   "cell_type": "markdown",
   "source": [
    "#### Display the files"
   ],
   "metadata": {
    "collapsed": false
   }
  },
  {
   "cell_type": "code",
   "execution_count": 19,
   "outputs": [
    {
     "data": {
      "text/plain": "                                              raw_path  \\\n0    /workspace/kitti_selection/selection_image/201...   \n1    /workspace/kitti_selection/selection_image/201...   \n2    /workspace/kitti_selection/selection_image/201...   \n3    /workspace/kitti_selection/selection_image/201...   \n4    /workspace/kitti_selection/selection_image/201...   \n..                                                 ...   \n995  /workspace/kitti_selection/selection_image/201...   \n996  /workspace/kitti_selection/selection_image/201...   \n997  /workspace/kitti_selection/selection_image/201...   \n998  /workspace/kitti_selection/selection_image/201...   \n999  /workspace/kitti_selection/selection_image/201...   \n\n                                            depth_path  \n0    /workspace/kitti_selection/selection_npy/2011_...  \n1    /workspace/kitti_selection/selection_npy/2011_...  \n2    /workspace/kitti_selection/selection_npy/2011_...  \n3    /workspace/kitti_selection/selection_npy/2011_...  \n4    /workspace/kitti_selection/selection_npy/2011_...  \n..                                                 ...  \n995  /workspace/kitti_selection/selection_npy/2011_...  \n996  /workspace/kitti_selection/selection_npy/2011_...  \n997  /workspace/kitti_selection/selection_npy/2011_...  \n998  /workspace/kitti_selection/selection_npy/2011_...  \n999  /workspace/kitti_selection/selection_npy/2011_...  \n\n[1000 rows x 2 columns]",
      "text/html": "<div>\n<style scoped>\n    .dataframe tbody tr th:only-of-type {\n        vertical-align: middle;\n    }\n\n    .dataframe tbody tr th {\n        vertical-align: top;\n    }\n\n    .dataframe thead th {\n        text-align: right;\n    }\n</style>\n<table border=\"1\" class=\"dataframe\">\n  <thead>\n    <tr style=\"text-align: right;\">\n      <th></th>\n      <th>raw_path</th>\n      <th>depth_path</th>\n    </tr>\n  </thead>\n  <tbody>\n    <tr>\n      <th>0</th>\n      <td>/workspace/kitti_selection/selection_image/201...</td>\n      <td>/workspace/kitti_selection/selection_npy/2011_...</td>\n    </tr>\n    <tr>\n      <th>1</th>\n      <td>/workspace/kitti_selection/selection_image/201...</td>\n      <td>/workspace/kitti_selection/selection_npy/2011_...</td>\n    </tr>\n    <tr>\n      <th>2</th>\n      <td>/workspace/kitti_selection/selection_image/201...</td>\n      <td>/workspace/kitti_selection/selection_npy/2011_...</td>\n    </tr>\n    <tr>\n      <th>3</th>\n      <td>/workspace/kitti_selection/selection_image/201...</td>\n      <td>/workspace/kitti_selection/selection_npy/2011_...</td>\n    </tr>\n    <tr>\n      <th>4</th>\n      <td>/workspace/kitti_selection/selection_image/201...</td>\n      <td>/workspace/kitti_selection/selection_npy/2011_...</td>\n    </tr>\n    <tr>\n      <th>...</th>\n      <td>...</td>\n      <td>...</td>\n    </tr>\n    <tr>\n      <th>995</th>\n      <td>/workspace/kitti_selection/selection_image/201...</td>\n      <td>/workspace/kitti_selection/selection_npy/2011_...</td>\n    </tr>\n    <tr>\n      <th>996</th>\n      <td>/workspace/kitti_selection/selection_image/201...</td>\n      <td>/workspace/kitti_selection/selection_npy/2011_...</td>\n    </tr>\n    <tr>\n      <th>997</th>\n      <td>/workspace/kitti_selection/selection_image/201...</td>\n      <td>/workspace/kitti_selection/selection_npy/2011_...</td>\n    </tr>\n    <tr>\n      <th>998</th>\n      <td>/workspace/kitti_selection/selection_image/201...</td>\n      <td>/workspace/kitti_selection/selection_npy/2011_...</td>\n    </tr>\n    <tr>\n      <th>999</th>\n      <td>/workspace/kitti_selection/selection_image/201...</td>\n      <td>/workspace/kitti_selection/selection_npy/2011_...</td>\n    </tr>\n  </tbody>\n</table>\n<p>1000 rows × 2 columns</p>\n</div>"
     },
     "metadata": {},
     "output_type": "display_data"
    }
   ],
   "source": [
    "os.chdir('D:\\\\Informatics\\\\Μεταπτυχιακό\\\\Εξάμηνο Γ\\\\dataset\\\\KITTI')\n",
    "\n",
    "display(pd.read_csv('kitti_selection.csv'))"
   ],
   "metadata": {
    "collapsed": false
   }
  },
  {
   "cell_type": "markdown",
   "source": [
    "#### Create DIPAE csv file"
   ],
   "metadata": {
    "collapsed": false
   }
  },
  {
   "cell_type": "code",
   "execution_count": 7,
   "outputs": [],
   "source": [
    "os.chdir('D:\\\\Informatics\\\\Μεταπτυχιακό\\\\Εξάμηνο Γ\\\\dataset\\\\DIPAE')\n",
    "\n",
    "files_raw = os.listdir('dipae_image')\n",
    "df = pd.DataFrame({'raw_path':files_raw})\n",
    "df['raw_path'] = '/workspace/dipae_image/' + df['raw_path']\n",
    "df.to_csv('dipae.csv', index=False)"
   ],
   "metadata": {
    "collapsed": false,
    "ExecuteTime": {
     "end_time": "2023-10-21T09:42:31.453246300Z",
     "start_time": "2023-10-21T09:42:31.449244Z"
    }
   }
  },
  {
   "cell_type": "markdown",
   "source": [
    "#### Display the files"
   ],
   "metadata": {
    "collapsed": false
   }
  },
  {
   "cell_type": "code",
   "execution_count": 8,
   "outputs": [
    {
     "data": {
      "text/plain": "                                      raw_path\n0   /workspace/dipae_image/20231019_175238.jpg\n1   /workspace/dipae_image/20231019_175308.jpg\n2   /workspace/dipae_image/20231019_175423.jpg\n3   /workspace/dipae_image/20231019_175447.jpg\n4   /workspace/dipae_image/20231019_175523.jpg\n5   /workspace/dipae_image/20231019_175604.jpg\n6   /workspace/dipae_image/20231019_175630.jpg\n7   /workspace/dipae_image/20231019_175653.jpg\n8   /workspace/dipae_image/20231019_175735.jpg\n9   /workspace/dipae_image/20231019_175824.jpg\n10  /workspace/dipae_image/20231019_175904.jpg\n11  /workspace/dipae_image/20231019_180628.jpg\n12  /workspace/dipae_image/20231019_180908.jpg\n13  /workspace/dipae_image/20231019_180951.jpg\n14  /workspace/dipae_image/20231019_181148.jpg\n15  /workspace/dipae_image/20231019_181309.jpg\n16  /workspace/dipae_image/20231019_181325.jpg\n17  /workspace/dipae_image/20231019_181412.jpg\n18  /workspace/dipae_image/20231019_181456.jpg\n19  /workspace/dipae_image/20231019_181544.jpg\n20  /workspace/dipae_image/20231019_181651.jpg\n21  /workspace/dipae_image/20231019_181718.jpg\n22  /workspace/dipae_image/20231019_181757.jpg\n23  /workspace/dipae_image/20231019_181807.jpg\n24  /workspace/dipae_image/20231019_181906.jpg\n25  /workspace/dipae_image/20231019_181934.jpg\n26  /workspace/dipae_image/20231019_182114.jpg\n27  /workspace/dipae_image/20231019_182140.jpg\n28  /workspace/dipae_image/20231019_182219.jpg\n29  /workspace/dipae_image/20231019_182446.jpg",
      "text/html": "<div>\n<style scoped>\n    .dataframe tbody tr th:only-of-type {\n        vertical-align: middle;\n    }\n\n    .dataframe tbody tr th {\n        vertical-align: top;\n    }\n\n    .dataframe thead th {\n        text-align: right;\n    }\n</style>\n<table border=\"1\" class=\"dataframe\">\n  <thead>\n    <tr style=\"text-align: right;\">\n      <th></th>\n      <th>raw_path</th>\n    </tr>\n  </thead>\n  <tbody>\n    <tr>\n      <th>0</th>\n      <td>/workspace/dipae_image/20231019_175238.jpg</td>\n    </tr>\n    <tr>\n      <th>1</th>\n      <td>/workspace/dipae_image/20231019_175308.jpg</td>\n    </tr>\n    <tr>\n      <th>2</th>\n      <td>/workspace/dipae_image/20231019_175423.jpg</td>\n    </tr>\n    <tr>\n      <th>3</th>\n      <td>/workspace/dipae_image/20231019_175447.jpg</td>\n    </tr>\n    <tr>\n      <th>4</th>\n      <td>/workspace/dipae_image/20231019_175523.jpg</td>\n    </tr>\n    <tr>\n      <th>5</th>\n      <td>/workspace/dipae_image/20231019_175604.jpg</td>\n    </tr>\n    <tr>\n      <th>6</th>\n      <td>/workspace/dipae_image/20231019_175630.jpg</td>\n    </tr>\n    <tr>\n      <th>7</th>\n      <td>/workspace/dipae_image/20231019_175653.jpg</td>\n    </tr>\n    <tr>\n      <th>8</th>\n      <td>/workspace/dipae_image/20231019_175735.jpg</td>\n    </tr>\n    <tr>\n      <th>9</th>\n      <td>/workspace/dipae_image/20231019_175824.jpg</td>\n    </tr>\n    <tr>\n      <th>10</th>\n      <td>/workspace/dipae_image/20231019_175904.jpg</td>\n    </tr>\n    <tr>\n      <th>11</th>\n      <td>/workspace/dipae_image/20231019_180628.jpg</td>\n    </tr>\n    <tr>\n      <th>12</th>\n      <td>/workspace/dipae_image/20231019_180908.jpg</td>\n    </tr>\n    <tr>\n      <th>13</th>\n      <td>/workspace/dipae_image/20231019_180951.jpg</td>\n    </tr>\n    <tr>\n      <th>14</th>\n      <td>/workspace/dipae_image/20231019_181148.jpg</td>\n    </tr>\n    <tr>\n      <th>15</th>\n      <td>/workspace/dipae_image/20231019_181309.jpg</td>\n    </tr>\n    <tr>\n      <th>16</th>\n      <td>/workspace/dipae_image/20231019_181325.jpg</td>\n    </tr>\n    <tr>\n      <th>17</th>\n      <td>/workspace/dipae_image/20231019_181412.jpg</td>\n    </tr>\n    <tr>\n      <th>18</th>\n      <td>/workspace/dipae_image/20231019_181456.jpg</td>\n    </tr>\n    <tr>\n      <th>19</th>\n      <td>/workspace/dipae_image/20231019_181544.jpg</td>\n    </tr>\n    <tr>\n      <th>20</th>\n      <td>/workspace/dipae_image/20231019_181651.jpg</td>\n    </tr>\n    <tr>\n      <th>21</th>\n      <td>/workspace/dipae_image/20231019_181718.jpg</td>\n    </tr>\n    <tr>\n      <th>22</th>\n      <td>/workspace/dipae_image/20231019_181757.jpg</td>\n    </tr>\n    <tr>\n      <th>23</th>\n      <td>/workspace/dipae_image/20231019_181807.jpg</td>\n    </tr>\n    <tr>\n      <th>24</th>\n      <td>/workspace/dipae_image/20231019_181906.jpg</td>\n    </tr>\n    <tr>\n      <th>25</th>\n      <td>/workspace/dipae_image/20231019_181934.jpg</td>\n    </tr>\n    <tr>\n      <th>26</th>\n      <td>/workspace/dipae_image/20231019_182114.jpg</td>\n    </tr>\n    <tr>\n      <th>27</th>\n      <td>/workspace/dipae_image/20231019_182140.jpg</td>\n    </tr>\n    <tr>\n      <th>28</th>\n      <td>/workspace/dipae_image/20231019_182219.jpg</td>\n    </tr>\n    <tr>\n      <th>29</th>\n      <td>/workspace/dipae_image/20231019_182446.jpg</td>\n    </tr>\n  </tbody>\n</table>\n</div>"
     },
     "metadata": {},
     "output_type": "display_data"
    }
   ],
   "source": [
    "os.chdir('D:\\\\Informatics\\\\Μεταπτυχιακό\\\\Εξάμηνο Γ\\\\dataset\\\\DIPAE')\n",
    "\n",
    "display(pd.read_csv('dipae.csv'))"
   ],
   "metadata": {
    "collapsed": false,
    "ExecuteTime": {
     "end_time": "2023-10-21T09:42:33.719202600Z",
     "start_time": "2023-10-21T09:42:33.714201300Z"
    }
   }
  },
  {
   "cell_type": "markdown",
   "source": [
    "#### Create KITTI depth selection txt file"
   ],
   "metadata": {
    "collapsed": false
   }
  },
  {
   "cell_type": "code",
   "execution_count": 22,
   "outputs": [],
   "source": [
    "os.chdir('D:\\\\Informatics\\\\Μεταπτυχιακό\\\\Εξάμηνο Γ\\\\dataset\\\\KITTI')\n",
    "\n",
    "files_raw = os.listdir('depth_selection\\\\val_selection_cropped\\\\image')\n",
    "files_depth = os.listdir('depth_selection\\\\val_selection_cropped\\\\groundtruth_depth')\n",
    "\n",
    "dest = ['selection_image/2011_09_26_drive_0002_sync/image_02/data/', 'selection_depth/proj_depth/groundtruth/image_02/']\n",
    "for path in dest:\n",
    "    if not os.path.exists(path):\n",
    "        os.makedirs(path)\n",
    "\n",
    "for i in range(len(files_raw)):\n",
    "    img = cv2.imread('depth_selection/val_selection_cropped/image/'+files_raw[i])\n",
    "    resized = cv2.resize(img, (1024, 768))\n",
    "    cv2.imwrite(dest[0]+files_raw[i], resized)\n",
    "\n",
    "    img = cv2.imread('depth_selection/val_selection_cropped/groundtruth_depth/'+files_depth[i])\n",
    "    resized = cv2.resize(img, (1024, 768))\n",
    "    cv2.imwrite(dest[1]+files_depth[i], resized)"
   ],
   "metadata": {
    "collapsed": false
   }
  },
  {
   "cell_type": "code",
   "execution_count": null,
   "outputs": [],
   "source": [],
   "metadata": {
    "collapsed": false
   }
  }
 ],
 "metadata": {
  "kernelspec": {
   "display_name": "Python 3",
   "language": "python",
   "name": "python3"
  },
  "language_info": {
   "codemirror_mode": {
    "name": "ipython",
    "version": 2
   },
   "file_extension": ".py",
   "mimetype": "text/x-python",
   "name": "python",
   "nbconvert_exporter": "python",
   "pygments_lexer": "ipython2",
   "version": "2.7.6"
  }
 },
 "nbformat": 4,
 "nbformat_minor": 0
}
