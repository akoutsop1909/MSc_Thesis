{
 "cells": [
  {
   "cell_type": "markdown",
   "source": [
    "#### Import packages"
   ],
   "metadata": {
    "collapsed": false
   }
  },
  {
   "cell_type": "code",
   "execution_count": 1,
   "outputs": [],
   "source": [
    "import pandas as pd\n",
    "import os"
   ],
   "metadata": {
    "collapsed": false,
    "ExecuteTime": {
     "end_time": "2023-12-03T11:12:39.624251400Z",
     "start_time": "2023-12-03T11:12:39.379185600Z"
    }
   }
  },
  {
   "cell_type": "markdown",
   "source": [
    "#### Create DIPAE csv file (relative path)"
   ],
   "metadata": {
    "collapsed": false
   }
  },
  {
   "cell_type": "code",
   "execution_count": 2,
   "metadata": {
    "collapsed": true,
    "ExecuteTime": {
     "end_time": "2023-11-09T11:52:56.253825600Z",
     "start_time": "2023-11-09T11:52:56.234239500Z"
    }
   },
   "outputs": [],
   "source": [
    "os.chdir('D:\\\\Informatics\\\\Μεταπτυχιακό\\\\Εξάμηνο Γ\\\\dataset\\\\DIPAE')\n",
    "\n",
    "files_raw = os.listdir('dipae_image')\n",
    "\n",
    "df = pd.DataFrame({'image':files_raw})\n",
    "df['image'] = './dipae_image/' + df['image']\n",
    "df.to_csv('dipae.csv', index=False, header=None)"
   ]
  },
  {
   "cell_type": "markdown",
   "source": [
    "#### Create DIPAE txt file for LapDepth"
   ],
   "metadata": {
    "collapsed": false
   }
  },
  {
   "cell_type": "code",
   "execution_count": 3,
   "outputs": [],
   "source": [
    "os.chdir('D:\\\\Informatics\\\\Μεταπτυχιακό\\\\Εξάμηνο Γ\\\\dataset\\\\KITTI')\n",
    "files_depth = os.listdir('kitti_selection\\\\selection_png')\n",
    "\n",
    "os.chdir('D:\\\\Informatics\\\\Μεταπτυχιακό\\\\Εξάμηνο Γ\\\\dataset\\\\DIPAE')\n",
    "\n",
    "files_raw = os.listdir('dipae_image')\n",
    "\n",
    "if os.path.exists('dipae.txt'):\n",
    "    os.remove('dipae.txt')\n",
    "file = open('dipae.txt', 'a')\n",
    "\n",
    "for i in range(len(files_raw)):\n",
    "    file.write('2011_09_26/2011_09_26_drive_dipae_sync/image_02/data/'+files_raw[i]+' 2011_09_26_drive_0000_sync/proj_depth/groundtruth/image_02/'+files_depth[i]+'\\n')\n",
    "file.close()"
   ],
   "metadata": {
    "collapsed": false,
    "ExecuteTime": {
     "end_time": "2023-11-10T11:20:56.657786800Z",
     "start_time": "2023-11-10T11:20:56.654787200Z"
    }
   }
  },
  {
   "cell_type": "markdown",
   "source": [
    "#### Create DIPAE txt file for PixelFormer"
   ],
   "metadata": {
    "collapsed": false
   }
  },
  {
   "cell_type": "code",
   "execution_count": 2,
   "outputs": [],
   "source": [
    "os.chdir('D:\\\\Informatics\\\\Μεταπτυχιακό\\\\Εξάμηνο Γ\\\\dataset\\\\DIPAE')\n",
    "\n",
    "files_raw = os.listdir('dipae_image')\n",
    "\n",
    "if os.path.exists('dipae.txt'):\n",
    "    os.remove('dipae.txt')\n",
    "file = open('dipae.txt', 'a')\n",
    "\n",
    "for i in range(len(files_raw)):\n",
    "    file.write('2011_09_26/2011_09_26_drive_dipae_sync/image_02/data/'+files_raw[i]+'\\n')\n",
    "file.close()"
   ],
   "metadata": {
    "collapsed": false,
    "ExecuteTime": {
     "end_time": "2023-12-03T11:15:16.690948400Z",
     "start_time": "2023-12-03T11:15:16.188716800Z"
    }
   }
  },
  {
   "cell_type": "code",
   "execution_count": null,
   "outputs": [],
   "source": [],
   "metadata": {
    "collapsed": false
   }
  }
 ],
 "metadata": {
  "kernelspec": {
   "display_name": "Python 3",
   "language": "python",
   "name": "python3"
  },
  "language_info": {
   "codemirror_mode": {
    "name": "ipython",
    "version": 2
   },
   "file_extension": ".py",
   "mimetype": "text/x-python",
   "name": "python",
   "nbconvert_exporter": "python",
   "pygments_lexer": "ipython2",
   "version": "2.7.6"
  }
 },
 "nbformat": 4,
 "nbformat_minor": 0
}
