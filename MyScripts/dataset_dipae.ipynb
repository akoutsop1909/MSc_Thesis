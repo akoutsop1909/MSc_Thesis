{
 "cells": [
  {
   "cell_type": "markdown",
   "source": [
    "#### Import packages"
   ],
   "metadata": {
    "collapsed": false
   }
  },
  {
   "cell_type": "code",
   "execution_count": 1,
   "outputs": [],
   "source": [
    "from PIL import Image\n",
    "import pandas as pd\n",
    "import os"
   ],
   "metadata": {
    "collapsed": false,
    "ExecuteTime": {
     "end_time": "2023-12-04T13:56:03.081397Z",
     "start_time": "2023-12-04T13:56:02.449226100Z"
    }
   }
  },
  {
   "cell_type": "markdown",
   "source": [
    "#### Resize DIPAE dataset"
   ],
   "metadata": {
    "collapsed": false
   }
  },
  {
   "cell_type": "code",
   "execution_count": 5,
   "outputs": [],
   "source": [
    "os.chdir('D:\\\\Informatics\\\\Μεταπτυχιακό\\\\Εξάμηνο Γ\\\\dataset\\\\DIPAE')\n",
    "\n",
    "source = 'dipae_image'\n",
    "dest = 'dipae_resized'\n",
    "\n",
    "files_raw = os.listdir(source)\n",
    "\n",
    "if not os.path.exists(dest):\n",
    "        os.makedirs(dest)\n",
    "\n",
    "for i in range(len(files_raw)):\n",
    "    image = Image.open(source+'\\\\'+files_raw[i])\n",
    "    new_image = image.resize((1024, 768))\n",
    "    new_image.save(dest+'\\\\'+files_raw[i])"
   ],
   "metadata": {
    "collapsed": false,
    "ExecuteTime": {
     "end_time": "2023-12-04T10:35:47.927507200Z",
     "start_time": "2023-12-04T10:35:43.377897500Z"
    }
   }
  },
  {
   "cell_type": "markdown",
   "source": [
    "#### Create DIPAE csv file (relative path)"
   ],
   "metadata": {
    "collapsed": false
   }
  },
  {
   "cell_type": "code",
   "execution_count": 7,
   "metadata": {
    "collapsed": true,
    "ExecuteTime": {
     "end_time": "2023-12-04T11:11:18.267830800Z",
     "start_time": "2023-12-04T11:11:18.264830600Z"
    }
   },
   "outputs": [],
   "source": [
    "os.chdir('D:\\\\Informatics\\\\Μεταπτυχιακό\\\\Εξάμηνο Γ\\\\dataset\\\\DIPAE')\n",
    "\n",
    "files_raw = os.listdir('dipae_resized')\n",
    "\n",
    "df = pd.DataFrame({'image':files_raw})\n",
    "df['image'] = './dipae_resized/' + df['image']\n",
    "df.to_csv('dipae.csv', index=False, header=None)"
   ]
  },
  {
   "cell_type": "markdown",
   "source": [
    "#### Create DIPAE txt file for LapDepth"
   ],
   "metadata": {
    "collapsed": false
   }
  },
  {
   "cell_type": "code",
   "execution_count": 2,
   "outputs": [],
   "source": [
    "os.chdir('D:\\\\Informatics\\\\Μεταπτυχιακό\\\\Εξάμηνο Γ\\\\dataset\\\\DIPAE')\n",
    "\n",
    "files_raw = os.listdir('dipae_resized')\n",
    "\n",
    "if os.path.exists('dipae.txt'):\n",
    "    os.remove('dipae.txt')\n",
    "file = open('dipae.txt', 'a')\n",
    "\n",
    "for i in range(len(files_raw)):\n",
    "    file.write('2011_09_26/2011_09_26_drive_dipae_sync/image_02/data/'+files_raw[i]+' 2011_09_26_drive_dipae_sync/proj_depth/groundtruth/image_02/fake.png\\n')\n",
    "file.close()"
   ],
   "metadata": {
    "collapsed": false,
    "ExecuteTime": {
     "end_time": "2023-12-04T13:57:32.581716300Z",
     "start_time": "2023-12-04T13:57:32.574714500Z"
    }
   }
  },
  {
   "cell_type": "markdown",
   "source": [
    "#### Create DIPAE txt file for PixelFormer"
   ],
   "metadata": {
    "collapsed": false
   }
  },
  {
   "cell_type": "code",
   "execution_count": 2,
   "outputs": [],
   "source": [
    "os.chdir('D:\\\\Informatics\\\\Μεταπτυχιακό\\\\Εξάμηνο Γ\\\\dataset\\\\KITTI')\n",
    "files_depth = os.listdir('kitti_selection\\\\selection_png')\n",
    "\n",
    "os.chdir('D:\\\\Informatics\\\\Μεταπτυχιακό\\\\Εξάμηνο Γ\\\\dataset\\\\DIPAE')\n",
    "\n",
    "files_raw = os.listdir('dipae_image')\n",
    "\n",
    "if os.path.exists('dipae.txt'):\n",
    "    os.remove('dipae.txt')\n",
    "file = open('dipae.txt', 'a')\n",
    "\n",
    "for i in range(len(files_raw)):\n",
    "    file.write('2011_09_26/2011_09_26_drive_dipae_sync/image_02/data/'+files_raw[i]+' 2011_09_26_drive_0000_sync/proj_depth/groundtruth/image_02/'+files_depth[i]+' 721.5377\\n')\n",
    "file.close()"
   ],
   "metadata": {
    "collapsed": false,
    "ExecuteTime": {
     "end_time": "2023-12-03T11:49:00.496387Z",
     "start_time": "2023-12-03T11:49:00.491387Z"
    }
   }
  },
  {
   "cell_type": "code",
   "execution_count": null,
   "outputs": [],
   "source": [],
   "metadata": {
    "collapsed": false
   }
  }
 ],
 "metadata": {
  "kernelspec": {
   "display_name": "Python 3",
   "language": "python",
   "name": "python3"
  },
  "language_info": {
   "codemirror_mode": {
    "name": "ipython",
    "version": 2
   },
   "file_extension": ".py",
   "mimetype": "text/x-python",
   "name": "python",
   "nbconvert_exporter": "python",
   "pygments_lexer": "ipython2",
   "version": "2.7.6"
  }
 },
 "nbformat": 4,
 "nbformat_minor": 0
}
