{
 "cells": [
  {
   "cell_type": "markdown",
   "source": [
    "#### Import packages"
   ],
   "metadata": {
    "collapsed": false
   }
  },
  {
   "cell_type": "code",
   "execution_count": 1,
   "outputs": [],
   "source": [
    "import pandas as pd\n",
    "import os"
   ],
   "metadata": {
    "collapsed": false,
    "ExecuteTime": {
     "end_time": "2023-10-21T09:32:33.202752400Z",
     "start_time": "2023-10-21T09:32:32.945447100Z"
    }
   }
  },
  {
   "cell_type": "markdown",
   "source": [
    "#### Create DIPAE csv file (relative path)"
   ],
   "metadata": {
    "collapsed": false
   }
  },
  {
   "cell_type": "code",
   "execution_count": 2,
   "metadata": {
    "collapsed": true,
    "ExecuteTime": {
     "end_time": "2023-10-21T09:32:40.761560600Z",
     "start_time": "2023-10-21T09:32:40.174768Z"
    }
   },
   "outputs": [],
   "source": [
    "os.chdir('D:\\\\Informatics\\\\Μεταπτυχιακό\\\\Εξάμηνο Γ\\\\dataset\\\\DIPAE')\n",
    "\n",
    "files_raw = os.listdir('dipae_image')\n",
    "\n",
    "df = pd.DataFrame({'image':files_raw})\n",
    "df['image'] = './dipae_image/' + df['image']\n",
    "df.to_csv('dipae.csv', index=False, header=None)"
   ]
  },
  {
   "cell_type": "markdown",
   "source": [
    "#### Create KITTI txt file for LapDepth"
   ],
   "metadata": {
    "collapsed": false
   }
  },
  {
   "cell_type": "code",
   "execution_count": 4,
   "outputs": [],
   "source": [
    "os.chdir('D:\\\\Informatics\\\\Μεταπτυχιακό\\\\Εξάμηνο Γ\\\\dataset\\\\KITTI')\n",
    "\n",
    "files_raw = os.listdir('kitti_selection\\\\selection_image')\n",
    "files_depth = os.listdir('kitti_selection\\\\selection_png')\n",
    "\n",
    "if os.path.exists('kitti_selection.txt'):\n",
    "    os.remove('kitti_selection.txt')\n",
    "file = open('kitti_selection.txt', 'a')\n",
    "\n",
    "for i in range(len(files_raw)):\n",
    "    file.write('selection_image/2011_09_26_drive_0002_sync/image_02/data/'+files_raw[i]+' selection_depth/proj_depth/groundtruth/image_02/'+files_depth[i]+' dummy/image.png\\n')\n",
    "file.close()"
   ],
   "metadata": {
    "collapsed": false
   }
  },
  {
   "cell_type": "markdown",
   "source": [
    "#### Create KITTI txt file for PixelFormer"
   ],
   "metadata": {
    "collapsed": false
   }
  },
  {
   "cell_type": "code",
   "execution_count": 3,
   "outputs": [],
   "source": [
    "os.chdir('D:\\\\Informatics\\\\Μεταπτυχιακό\\\\Εξάμηνο Γ\\\\dataset\\\\KITTI')\n",
    "\n",
    "files_raw = os.listdir('kitti_selection\\\\selection_image')\n",
    "files_depth = os.listdir('kitti_selection\\\\selection_png')\n",
    "\n",
    "if os.path.exists('kitti_selection.txt'):\n",
    "    os.remove('kitti_selection.txt')\n",
    "file = open('kitti_selection.txt', 'a')\n",
    "\n",
    "for i in range(len(files_raw)):\n",
    "    file.write('2011_09_26/2011_09_26_drive_0000_sync/image_02/data/'+files_raw[i]+' 2011_09_26_drive_0000_sync/proj_depth/groundtruth/image_02/'+files_depth[i]+' 721.5377\\n')\n",
    "file.close()"
   ],
   "metadata": {
    "collapsed": false,
    "ExecuteTime": {
     "end_time": "2023-10-14T10:50:27.533031700Z",
     "start_time": "2023-10-14T10:50:27.527029600Z"
    }
   }
  },
  {
   "cell_type": "code",
   "execution_count": null,
   "outputs": [],
   "source": [],
   "metadata": {
    "collapsed": false
   }
  }
 ],
 "metadata": {
  "kernelspec": {
   "display_name": "Python 3",
   "language": "python",
   "name": "python3"
  },
  "language_info": {
   "codemirror_mode": {
    "name": "ipython",
    "version": 2
   },
   "file_extension": ".py",
   "mimetype": "text/x-python",
   "name": "python",
   "nbconvert_exporter": "python",
   "pygments_lexer": "ipython2",
   "version": "2.7.6"
  }
 },
 "nbformat": 4,
 "nbformat_minor": 0
}
