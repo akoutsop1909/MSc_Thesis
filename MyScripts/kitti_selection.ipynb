{
 "cells": [
  {
   "cell_type": "markdown",
   "source": [
    "#### Import packages"
   ],
   "metadata": {
    "collapsed": false
   }
  },
  {
   "cell_type": "code",
   "execution_count": 1,
   "outputs": [],
   "source": [
    "from PIL import Image\n",
    "import pandas as pd\n",
    "import numpy as np\n",
    "import os\n",
    "import shutil"
   ],
   "metadata": {
    "collapsed": false
   }
  },
  {
   "cell_type": "markdown",
   "source": [
    "#### Copy raw images to new location"
   ],
   "metadata": {
    "collapsed": false
   }
  },
  {
   "cell_type": "code",
   "execution_count": 3,
   "outputs": [],
   "source": [
    "os.chdir('D:\\\\Informatics\\\\Μεταπτυχιακό\\\\Εξάμηνο Γ\\\\dataset\\\\KITTI')\n",
    "\n",
    "source = 'depth_selection\\\\val_selection_cropped\\\\image'\n",
    "dest = 'kitti_selection\\\\selection_image'\n",
    "\n",
    "files_raw = os.listdir(source)\n",
    "\n",
    "if not os.path.exists(dest):\n",
    "        os.makedirs(dest)\n",
    "\n",
    "for i in range(len(files_raw)):\n",
    "    shutil.copy(source+'\\\\'+files_raw[i], dest)"
   ],
   "metadata": {
    "collapsed": false
   }
  },
  {
   "cell_type": "markdown",
   "source": [
    "#### Convert depth png files to npy"
   ],
   "metadata": {
    "collapsed": false
   }
  },
  {
   "cell_type": "code",
   "execution_count": 6,
   "outputs": [],
   "source": [
    "os.chdir('D:\\\\Informatics\\\\Μεταπτυχιακό\\\\Εξάμηνο Γ\\\\dataset\\\\KITTI')\n",
    "\n",
    "source = 'depth_selection\\\\val_selection_cropped\\\\groundtruth_depth'\n",
    "dest = 'kitti_selection\\\\selection_npy'\n",
    "\n",
    "files_depth = os.listdir(source)\n",
    "\n",
    "if not os.path.exists(dest):\n",
    "        os.makedirs(dest)\n",
    "\n",
    "for i in range(len(files_depth)):\n",
    "    img = Image.open(source+'\\\\'+files_depth[i])\n",
    "    depth = np.asarray(img)\n",
    "    np.save(dest+'\\\\'+files_depth[i][:-4], depth)"
   ],
   "metadata": {
    "collapsed": false
   }
  },
  {
   "cell_type": "markdown",
   "source": [
    "#### Create KITTI csv file (relative path)"
   ],
   "metadata": {
    "collapsed": false
   }
  },
  {
   "cell_type": "code",
   "execution_count": 7,
   "metadata": {
    "collapsed": true
   },
   "outputs": [],
   "source": [
    "os.chdir('D:\\\\Informatics\\\\Μεταπτυχιακό\\\\Εξάμηνο Γ\\\\dataset\\\\KITTI')\n",
    "\n",
    "files_raw = os.listdir('kitti_selection\\\\selection_image')\n",
    "files_depth = os.listdir('kitti_selection\\\\selection_npy')\n",
    "\n",
    "df = pd.DataFrame({'image':files_raw, 'npy':files_depth})\n",
    "df['image'] = './kitti_selection/selection_image/' + df['image']\n",
    "df['npy'] = './kitti_selection/selection_npy/' + df['npy']\n",
    "df.to_csv('kitti_selection.csv', index=False, header=None)"
   ]
  },
  {
   "cell_type": "code",
   "execution_count": null,
   "outputs": [],
   "source": [],
   "metadata": {
    "collapsed": false
   }
  }
 ],
 "metadata": {
  "kernelspec": {
   "display_name": "Python 3",
   "language": "python",
   "name": "python3"
  },
  "language_info": {
   "codemirror_mode": {
    "name": "ipython",
    "version": 2
   },
   "file_extension": ".py",
   "mimetype": "text/x-python",
   "name": "python",
   "nbconvert_exporter": "python",
   "pygments_lexer": "ipython2",
   "version": "2.7.6"
  }
 },
 "nbformat": 4,
 "nbformat_minor": 0
}
