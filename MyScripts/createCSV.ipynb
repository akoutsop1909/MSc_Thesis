{
 "cells": [
  {
   "cell_type": "markdown",
   "source": [
    "#### Import packages"
   ],
   "metadata": {
    "collapsed": false
   }
  },
  {
   "cell_type": "code",
   "execution_count": 1,
   "outputs": [],
   "source": [
    "import pandas as pd\n",
    "import os"
   ],
   "metadata": {
    "collapsed": false
   }
  },
  {
   "cell_type": "markdown",
   "source": [
    "#### Change cwd (location of original csv files)"
   ],
   "metadata": {
    "collapsed": false
   }
  },
  {
   "cell_type": "code",
   "execution_count": 2,
   "outputs": [],
   "source": [
    "os.chdir('D:\\\\Informatics\\\\Μεταπτυχιακό\\\\Εξάμηνο Γ\\\\dataset')"
   ],
   "metadata": {
    "collapsed": false
   }
  },
  {
   "cell_type": "markdown",
   "source": [
    "#### Create BANet csv files"
   ],
   "metadata": {
    "collapsed": false
   }
  },
  {
   "cell_type": "code",
   "execution_count": 4,
   "metadata": {
    "collapsed": true
   },
   "outputs": [],
   "source": [
    "# training set\n",
    "train = pd.read_csv('train_outdoor.csv', header=None)\n",
    "train = train.drop(train.columns[[2, 3]], axis=1)\n",
    "train.columns = ['raw_path', 'depth_path']\n",
    "train['raw_path'] = train['raw_path'].str[1:]\n",
    "train['depth_path'] = train['depth_path'].str[1:]\n",
    "train = '/workspace/dataset' + train\n",
    "train.to_csv('train.csv', index=False)\n",
    "\n",
    "# validation set\n",
    "val = pd.read_csv('val_outdoor.csv', header=None)\n",
    "val = val.drop(val.columns[[2, 3]], axis=1)\n",
    "val.columns = ['raw_path', 'depth_path']\n",
    "val['raw_path'] = val['raw_path'].str[1:]\n",
    "val['depth_path'] = val['depth_path'].str[1:]\n",
    "val = '/workspace/dataset' + val\n",
    "val.to_csv('val.csv', index=False)"
   ]
  },
  {
   "cell_type": "markdown",
   "source": [
    "#### Display the newly created files"
   ],
   "metadata": {
    "collapsed": false
   }
  },
  {
   "cell_type": "code",
   "execution_count": 4,
   "outputs": [
    {
     "data": {
      "text/plain": "                                                raw_path  \\\n0      /workspace/dataset/train/outdoor/scene_00007/s...   \n1      /workspace/dataset/train/outdoor/scene_00007/s...   \n2      /workspace/dataset/train/outdoor/scene_00007/s...   \n3      /workspace/dataset/train/outdoor/scene_00007/s...   \n4      /workspace/dataset/train/outdoor/scene_00007/s...   \n...                                                  ...   \n16879  /workspace/dataset/train/outdoor/scene_00018/s...   \n16880  /workspace/dataset/train/outdoor/scene_00018/s...   \n16881  /workspace/dataset/train/outdoor/scene_00018/s...   \n16882  /workspace/dataset/train/outdoor/scene_00018/s...   \n16883  /workspace/dataset/train/outdoor/scene_00018/s...   \n\n                                              depth_path  \n0      /workspace/dataset/train/outdoor/scene_00007/s...  \n1      /workspace/dataset/train/outdoor/scene_00007/s...  \n2      /workspace/dataset/train/outdoor/scene_00007/s...  \n3      /workspace/dataset/train/outdoor/scene_00007/s...  \n4      /workspace/dataset/train/outdoor/scene_00007/s...  \n...                                                  ...  \n16879  /workspace/dataset/train/outdoor/scene_00018/s...  \n16880  /workspace/dataset/train/outdoor/scene_00018/s...  \n16881  /workspace/dataset/train/outdoor/scene_00018/s...  \n16882  /workspace/dataset/train/outdoor/scene_00018/s...  \n16883  /workspace/dataset/train/outdoor/scene_00018/s...  \n\n[16884 rows x 2 columns]",
      "text/html": "<div>\n<style scoped>\n    .dataframe tbody tr th:only-of-type {\n        vertical-align: middle;\n    }\n\n    .dataframe tbody tr th {\n        vertical-align: top;\n    }\n\n    .dataframe thead th {\n        text-align: right;\n    }\n</style>\n<table border=\"1\" class=\"dataframe\">\n  <thead>\n    <tr style=\"text-align: right;\">\n      <th></th>\n      <th>raw_path</th>\n      <th>depth_path</th>\n    </tr>\n  </thead>\n  <tbody>\n    <tr>\n      <th>0</th>\n      <td>/workspace/dataset/train/outdoor/scene_00007/s...</td>\n      <td>/workspace/dataset/train/outdoor/scene_00007/s...</td>\n    </tr>\n    <tr>\n      <th>1</th>\n      <td>/workspace/dataset/train/outdoor/scene_00007/s...</td>\n      <td>/workspace/dataset/train/outdoor/scene_00007/s...</td>\n    </tr>\n    <tr>\n      <th>2</th>\n      <td>/workspace/dataset/train/outdoor/scene_00007/s...</td>\n      <td>/workspace/dataset/train/outdoor/scene_00007/s...</td>\n    </tr>\n    <tr>\n      <th>3</th>\n      <td>/workspace/dataset/train/outdoor/scene_00007/s...</td>\n      <td>/workspace/dataset/train/outdoor/scene_00007/s...</td>\n    </tr>\n    <tr>\n      <th>4</th>\n      <td>/workspace/dataset/train/outdoor/scene_00007/s...</td>\n      <td>/workspace/dataset/train/outdoor/scene_00007/s...</td>\n    </tr>\n    <tr>\n      <th>...</th>\n      <td>...</td>\n      <td>...</td>\n    </tr>\n    <tr>\n      <th>16879</th>\n      <td>/workspace/dataset/train/outdoor/scene_00018/s...</td>\n      <td>/workspace/dataset/train/outdoor/scene_00018/s...</td>\n    </tr>\n    <tr>\n      <th>16880</th>\n      <td>/workspace/dataset/train/outdoor/scene_00018/s...</td>\n      <td>/workspace/dataset/train/outdoor/scene_00018/s...</td>\n    </tr>\n    <tr>\n      <th>16881</th>\n      <td>/workspace/dataset/train/outdoor/scene_00018/s...</td>\n      <td>/workspace/dataset/train/outdoor/scene_00018/s...</td>\n    </tr>\n    <tr>\n      <th>16882</th>\n      <td>/workspace/dataset/train/outdoor/scene_00018/s...</td>\n      <td>/workspace/dataset/train/outdoor/scene_00018/s...</td>\n    </tr>\n    <tr>\n      <th>16883</th>\n      <td>/workspace/dataset/train/outdoor/scene_00018/s...</td>\n      <td>/workspace/dataset/train/outdoor/scene_00018/s...</td>\n    </tr>\n  </tbody>\n</table>\n<p>16884 rows × 2 columns</p>\n</div>"
     },
     "metadata": {},
     "output_type": "display_data"
    },
    {
     "data": {
      "text/plain": "                                              raw_path  \\\n0    /workspace/dataset/val/outdoor/scene_00022/sca...   \n1    /workspace/dataset/val/outdoor/scene_00022/sca...   \n2    /workspace/dataset/val/outdoor/scene_00022/sca...   \n3    /workspace/dataset/val/outdoor/scene_00022/sca...   \n4    /workspace/dataset/val/outdoor/scene_00022/sca...   \n..                                                 ...   \n441  /workspace/dataset/val/outdoor/scene_00024/sca...   \n442  /workspace/dataset/val/outdoor/scene_00024/sca...   \n443  /workspace/dataset/val/outdoor/scene_00024/sca...   \n444  /workspace/dataset/val/outdoor/scene_00024/sca...   \n445  /workspace/dataset/val/outdoor/scene_00024/sca...   \n\n                                            depth_path  \n0    /workspace/dataset/val/outdoor/scene_00022/sca...  \n1    /workspace/dataset/val/outdoor/scene_00022/sca...  \n2    /workspace/dataset/val/outdoor/scene_00022/sca...  \n3    /workspace/dataset/val/outdoor/scene_00022/sca...  \n4    /workspace/dataset/val/outdoor/scene_00022/sca...  \n..                                                 ...  \n441  /workspace/dataset/val/outdoor/scene_00024/sca...  \n442  /workspace/dataset/val/outdoor/scene_00024/sca...  \n443  /workspace/dataset/val/outdoor/scene_00024/sca...  \n444  /workspace/dataset/val/outdoor/scene_00024/sca...  \n445  /workspace/dataset/val/outdoor/scene_00024/sca...  \n\n[446 rows x 2 columns]",
      "text/html": "<div>\n<style scoped>\n    .dataframe tbody tr th:only-of-type {\n        vertical-align: middle;\n    }\n\n    .dataframe tbody tr th {\n        vertical-align: top;\n    }\n\n    .dataframe thead th {\n        text-align: right;\n    }\n</style>\n<table border=\"1\" class=\"dataframe\">\n  <thead>\n    <tr style=\"text-align: right;\">\n      <th></th>\n      <th>raw_path</th>\n      <th>depth_path</th>\n    </tr>\n  </thead>\n  <tbody>\n    <tr>\n      <th>0</th>\n      <td>/workspace/dataset/val/outdoor/scene_00022/sca...</td>\n      <td>/workspace/dataset/val/outdoor/scene_00022/sca...</td>\n    </tr>\n    <tr>\n      <th>1</th>\n      <td>/workspace/dataset/val/outdoor/scene_00022/sca...</td>\n      <td>/workspace/dataset/val/outdoor/scene_00022/sca...</td>\n    </tr>\n    <tr>\n      <th>2</th>\n      <td>/workspace/dataset/val/outdoor/scene_00022/sca...</td>\n      <td>/workspace/dataset/val/outdoor/scene_00022/sca...</td>\n    </tr>\n    <tr>\n      <th>3</th>\n      <td>/workspace/dataset/val/outdoor/scene_00022/sca...</td>\n      <td>/workspace/dataset/val/outdoor/scene_00022/sca...</td>\n    </tr>\n    <tr>\n      <th>4</th>\n      <td>/workspace/dataset/val/outdoor/scene_00022/sca...</td>\n      <td>/workspace/dataset/val/outdoor/scene_00022/sca...</td>\n    </tr>\n    <tr>\n      <th>...</th>\n      <td>...</td>\n      <td>...</td>\n    </tr>\n    <tr>\n      <th>441</th>\n      <td>/workspace/dataset/val/outdoor/scene_00024/sca...</td>\n      <td>/workspace/dataset/val/outdoor/scene_00024/sca...</td>\n    </tr>\n    <tr>\n      <th>442</th>\n      <td>/workspace/dataset/val/outdoor/scene_00024/sca...</td>\n      <td>/workspace/dataset/val/outdoor/scene_00024/sca...</td>\n    </tr>\n    <tr>\n      <th>443</th>\n      <td>/workspace/dataset/val/outdoor/scene_00024/sca...</td>\n      <td>/workspace/dataset/val/outdoor/scene_00024/sca...</td>\n    </tr>\n    <tr>\n      <th>444</th>\n      <td>/workspace/dataset/val/outdoor/scene_00024/sca...</td>\n      <td>/workspace/dataset/val/outdoor/scene_00024/sca...</td>\n    </tr>\n    <tr>\n      <th>445</th>\n      <td>/workspace/dataset/val/outdoor/scene_00024/sca...</td>\n      <td>/workspace/dataset/val/outdoor/scene_00024/sca...</td>\n    </tr>\n  </tbody>\n</table>\n<p>446 rows × 2 columns</p>\n</div>"
     },
     "metadata": {},
     "output_type": "display_data"
    }
   ],
   "source": [
    "display(train)\n",
    "display(val)"
   ],
   "metadata": {
    "collapsed": false
   }
  },
  {
   "cell_type": "code",
   "execution_count": null,
   "outputs": [],
   "source": [],
   "metadata": {
    "collapsed": false,
    "pycharm": {
     "is_executing": true
    }
   }
  }
 ],
 "metadata": {
  "kernelspec": {
   "display_name": "Python 3",
   "language": "python",
   "name": "python3"
  },
  "language_info": {
   "codemirror_mode": {
    "name": "ipython",
    "version": 2
   },
   "file_extension": ".py",
   "mimetype": "text/x-python",
   "name": "python",
   "nbconvert_exporter": "python",
   "pygments_lexer": "ipython2",
   "version": "2.7.6"
  }
 },
 "nbformat": 4,
 "nbformat_minor": 0
}
