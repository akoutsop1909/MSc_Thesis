{
 "cells": [
  {
   "cell_type": "markdown",
   "source": [
    "Import packages"
   ],
   "metadata": {
    "collapsed": false
   }
  },
  {
   "cell_type": "code",
   "execution_count": 1,
   "outputs": [],
   "source": [
    "import pandas as pd\n",
    "import matplotlib.pyplot as plt"
   ],
   "metadata": {
    "collapsed": false
   }
  },
  {
   "cell_type": "markdown",
   "source": [
    "Prepare BANet metrics"
   ],
   "metadata": {
    "collapsed": false
   }
  },
  {
   "cell_type": "code",
   "execution_count": null,
   "outputs": [],
   "source": [
    "metrics = pd.read_csv('banet_metrics.csv')"
   ],
   "metadata": {
    "collapsed": false
   }
  },
  {
   "cell_type": "markdown",
   "source": [
    "Show BANet results"
   ],
   "metadata": {
    "collapsed": false
   }
  },
  {
   "cell_type": "code",
   "execution_count": null,
   "metadata": {
    "collapsed": true
   },
   "outputs": [],
   "source": [
    "fig, (ax1, ax2) = plt.subplots(1, 2, figsize=(20,8))\n",
    "\n",
    "# Plot validation L1-Loss\n",
    "ax1.plot(metrics['Train Loss'], 'b', linewidth=2)\n",
    "ax1.plot(metrics['Test Loss'], 'r', linewidth=2)\n",
    "ax1.legend(['training', 'validation'], fontsize=14)\n",
    "ax1.set_xlabel('epoch', fontsize=16)\n",
    "ax1.set_ylabel('L1-Loss', fontsize=16)\n",
    "ax1.tick_params(axis='both', which='major', labelsize=12)\n",
    "ax1.grid()\n",
    "\n",
    "# Plot validation SILog Loss\n",
    "ax2.plot(metrics['Train SILog'], 'b', linewidth=2)\n",
    "ax2.plot(metrics['Test SILog'], 'r', linewidth=2)\n",
    "ax2.legend(['training', 'validation'], fontsize=14)\n",
    "ax2.set_xlabel('epoch', fontsize=16)\n",
    "ax2.set_ylabel('SILog Loss', fontsize=16)\n",
    "ax2.tick_params(axis='both', which='major', labelsize=12)\n",
    "ax2.grid()"
   ]
  }
 ],
 "metadata": {
  "kernelspec": {
   "display_name": "Python 3",
   "language": "python",
   "name": "python3"
  },
  "language_info": {
   "codemirror_mode": {
    "name": "ipython",
    "version": 2
   },
   "file_extension": ".py",
   "mimetype": "text/x-python",
   "name": "python",
   "nbconvert_exporter": "python",
   "pygments_lexer": "ipython2",
   "version": "2.7.6"
  }
 },
 "nbformat": 4,
 "nbformat_minor": 0
}
