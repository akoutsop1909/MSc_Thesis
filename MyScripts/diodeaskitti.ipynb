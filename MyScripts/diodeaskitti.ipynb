{
 "cells": [
  {
   "cell_type": "markdown",
   "source": [
    "#### Import packages"
   ],
   "metadata": {
    "collapsed": false
   }
  },
  {
   "cell_type": "code",
   "execution_count": 1,
   "metadata": {
    "collapsed": true
   },
   "outputs": [],
   "source": [
    "import pandas as pd\n",
    "import numpy as np\n",
    "import shutil\n",
    "import cv2\n",
    "import os"
   ]
  },
  {
   "cell_type": "markdown",
   "source": [
    "#### Define functions"
   ],
   "metadata": {
    "collapsed": false
   }
  },
  {
   "cell_type": "code",
   "execution_count": 22,
   "outputs": [],
   "source": [
    "def fetch_data(type):\n",
    "    \"\"\"Returns a dataframe of either 'train' or 'val' data including depth maps in png format.\"\"\"\n",
    "    df = pd.read_csv(type + '_outdoor.csv', header=None)\n",
    "    df = df.drop(df.columns[[2, 3]], axis=1)\n",
    "    df.columns = ['image', 'depth_npy']\n",
    "    df['depth_png'] = df['depth_npy'].str.replace('npy', 'png')\n",
    "\n",
    "    return df\n",
    "\n",
    "def npy_to_png(df):\n",
    "    \"\"\"Creates png images from numpy arrays.\"\"\"\n",
    "    for i in range(len(df)):\n",
    "        depth = np.load(df['depth_npy'][i])\n",
    "        cv2.imwrite(df['depth_png'][i], depth)\n",
    "\n",
    "def mkdepth(type):\n",
    "    \"\"\"Creates the depth map folder structure of either 'train' or 'val'.\"\"\"\n",
    "    folders = os.listdir('D:\\\\Informatics\\\\Μεταπτυχιακό\\\\Εξάμηνο Γ\\\\dataset\\\\KITTI\\\\'+type)\n",
    "    df = fetch_data(type)\n",
    "\n",
    "    t = 0\n",
    "    image = ['image_02','image_03']\n",
    "\n",
    "    for i in range(len(folders)):\n",
    "        for j in range(len(image)):\n",
    "            files = os.listdir('D:\\\\Informatics\\\\Μεταπτυχιακό\\\\Εξάμηνο Γ\\\\dataset\\\\KITTI\\\\'+type+'\\\\'+folders[i]+'\\\\proj_depth\\\\groundtruth\\\\'+image[j])\n",
    "            dest = 'D:\\\\Informatics\\\\Μεταπτυχιακό\\\\Εξάμηνο Γ\\\\dataset\\\\DIODEASKITTI\\\\'+type+'\\\\'+folders[i]+'\\\\proj_depth\\\\groundtruth\\\\'+image[j]\n",
    "            if not os.path.exists(dest):\n",
    "                os.makedirs(dest)\n",
    "\n",
    "            for k in range(len(files)):\n",
    "                os.rename(df['depth_png'][t], files[k])\n",
    "                shutil.move(files[k], dest)\n",
    "                t+=1\n",
    "                if t == len(df):\n",
    "                    return\n",
    "\n",
    "def mkraw(type):\n",
    "    \"\"\"Creates the raw folder structure of either 'train' or 'val'.\"\"\"\n",
    "    folders = os.listdir('D:\\\\Informatics\\\\Μεταπτυχιακό\\\\Εξάμηνο Γ\\\\dataset\\\\KITTI\\\\'+type)\n",
    "    df = fetch_data(type)\n",
    "\n",
    "    t = 0\n",
    "    image = ['image_02','image_03']\n",
    "\n",
    "    for i in range(len(folders)):\n",
    "        for j in range(len(image)):\n",
    "            files = os.listdir('D:\\\\Informatics\\\\Μεταπτυχιακό\\\\Εξάμηνο Γ\\\\dataset\\\\KITTI\\\\'+type+'\\\\'+folders[i]+'\\\\proj_depth\\\\groundtruth\\\\'+image[j])\n",
    "            dest = 'D:\\\\Informatics\\\\Μεταπτυχιακό\\\\Εξάμηνο Γ\\\\dataset\\\\DIODEASKITTI\\\\'+'_'.join(folders[i].split('_', 3)[:3])+'\\\\'+folders[i]+'\\\\'+image[j]+'\\\\data'\n",
    "            if not os.path.exists(dest):\n",
    "                os.makedirs(dest)\n",
    "\n",
    "            for k in range(len(files)):\n",
    "                shutil.copy(df['image'][t], dest)\n",
    "                os.rename(dest+'\\\\'+df['image'][t].split('/')[5], dest+'\\\\'+files[k])\n",
    "                t+=1\n",
    "                if t == len(df):\n",
    "                    return"
   ],
   "metadata": {
    "collapsed": false
   }
  },
  {
   "cell_type": "markdown",
   "source": [
    "#### Create png depth maps"
   ],
   "metadata": {
    "collapsed": false
   }
  },
  {
   "cell_type": "code",
   "execution_count": 49,
   "outputs": [],
   "source": [
    "# prepare datasets\n",
    "os.chdir('D:\\\\Informatics\\\\Μεταπτυχιακό\\\\Εξάμηνο Γ\\\\dataset\\\\DIODE')\n",
    "train = fetch_data('train')\n",
    "val = fetch_data('val')\n",
    "\n",
    "# create png files\n",
    "npy_to_png(train)\n",
    "npy_to_png(val)"
   ],
   "metadata": {
    "collapsed": false
   }
  },
  {
   "cell_type": "markdown",
   "source": [
    "#### Create depth map folder structure"
   ],
   "metadata": {
    "collapsed": false
   }
  },
  {
   "cell_type": "code",
   "execution_count": 54,
   "outputs": [],
   "source": [
    "os.chdir('D:\\\\Informatics\\\\Μεταπτυχιακό\\\\Εξάμηνο Γ\\\\dataset\\\\DIODE')\n",
    "\n",
    "# call the function for 'train' and 'val' data\n",
    "mkdepth('train')\n",
    "mkdepth('val')"
   ],
   "metadata": {
    "collapsed": false
   }
  },
  {
   "cell_type": "markdown",
   "source": [
    "#### Create raw folder structure"
   ],
   "metadata": {
    "collapsed": false
   }
  },
  {
   "cell_type": "code",
   "execution_count": 23,
   "outputs": [],
   "source": [
    "os.chdir('D:\\\\Informatics\\\\Μεταπτυχιακό\\\\Εξάμηνο Γ\\\\dataset\\\\DIODE')\n",
    "\n",
    "# call the function for 'train' and 'val' data\n",
    "mkraw('train')\n",
    "mkraw('val')"
   ],
   "metadata": {
    "collapsed": false
   }
  },
  {
   "cell_type": "code",
   "execution_count": null,
   "outputs": [],
   "source": [],
   "metadata": {
    "collapsed": false
   }
  }
 ],
 "metadata": {
  "kernelspec": {
   "display_name": "Python 3",
   "language": "python",
   "name": "python3"
  },
  "language_info": {
   "codemirror_mode": {
    "name": "ipython",
    "version": 2
   },
   "file_extension": ".py",
   "mimetype": "text/x-python",
   "name": "python",
   "nbconvert_exporter": "python",
   "pygments_lexer": "ipython2",
   "version": "2.7.6"
  }
 },
 "nbformat": 4,
 "nbformat_minor": 0
}
