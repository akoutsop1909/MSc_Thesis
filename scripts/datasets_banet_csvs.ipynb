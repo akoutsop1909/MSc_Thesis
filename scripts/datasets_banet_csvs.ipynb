{
 "cells": [
  {
   "cell_type": "markdown",
   "source": [
    "#### Import packages"
   ],
   "metadata": {
    "collapsed": false
   }
  },
  {
   "cell_type": "code",
   "execution_count": 2,
   "outputs": [],
   "source": [
    "import pandas as pd\n",
    "import os"
   ],
   "metadata": {
    "collapsed": false,
    "ExecuteTime": {
     "end_time": "2024-03-16T12:11:34.714625700Z",
     "start_time": "2024-03-16T12:11:34.441473900Z"
    }
   }
  },
  {
   "cell_type": "markdown",
   "source": [
    "#### Define functions"
   ],
   "metadata": {
    "collapsed": false
   }
  },
  {
   "cell_type": "code",
   "execution_count": 2,
   "outputs": [],
   "source": [
    "def save_diode(type):\n",
    "    \"\"\"Saves a DIODE csv file of either 'train' or 'val' data for BANet training.\"\"\"\n",
    "    df = pd.read_csv(type + '_outdoor.csv', header=None)\n",
    "    df = df.drop(df.columns[[2, 3]], axis=1)\n",
    "    df.columns = ['raw_path', 'depth_path']\n",
    "    df['raw_path'] = df['raw_path'].str[1:]\n",
    "    df['depth_path'] = df['depth_path'].str[1:]\n",
    "    df = '/workspace/DIODE' + df # modify path to DIODE folder\n",
    "    df.to_csv('diode_' + type + '.csv', index=False)"
   ],
   "metadata": {
    "collapsed": false
   }
  },
  {
   "cell_type": "markdown",
   "source": [
    "#### Create DIODE/Outdoor CSV files"
   ],
   "metadata": {
    "collapsed": false
   }
  },
  {
   "cell_type": "code",
   "execution_count": 3,
   "metadata": {
    "collapsed": true
   },
   "outputs": [],
   "source": [
    "os.chdir('D:\\\\Informatics\\\\Μεταπτυχιακό\\\\Εξάμηνο Γ\\\\dataset\\\\DIODE')\n",
    "\n",
    "# call the function for 'train' and 'val' data\n",
    "save_diode('train')\n",
    "save_diode('val')"
   ]
  },
  {
   "cell_type": "markdown",
   "source": [
    "#### Display the files"
   ],
   "metadata": {
    "collapsed": false
   }
  },
  {
   "cell_type": "code",
   "execution_count": 4,
   "outputs": [
    {
     "data": {
      "text/plain": "                                                raw_path  \\\n0      /workspace/DIODE/train/outdoor/scene_00007/sca...   \n1      /workspace/DIODE/train/outdoor/scene_00007/sca...   \n2      /workspace/DIODE/train/outdoor/scene_00007/sca...   \n3      /workspace/DIODE/train/outdoor/scene_00007/sca...   \n4      /workspace/DIODE/train/outdoor/scene_00007/sca...   \n...                                                  ...   \n16879  /workspace/DIODE/train/outdoor/scene_00018/sca...   \n16880  /workspace/DIODE/train/outdoor/scene_00018/sca...   \n16881  /workspace/DIODE/train/outdoor/scene_00018/sca...   \n16882  /workspace/DIODE/train/outdoor/scene_00018/sca...   \n16883  /workspace/DIODE/train/outdoor/scene_00018/sca...   \n\n                                              depth_path  \n0      /workspace/DIODE/train/outdoor/scene_00007/sca...  \n1      /workspace/DIODE/train/outdoor/scene_00007/sca...  \n2      /workspace/DIODE/train/outdoor/scene_00007/sca...  \n3      /workspace/DIODE/train/outdoor/scene_00007/sca...  \n4      /workspace/DIODE/train/outdoor/scene_00007/sca...  \n...                                                  ...  \n16879  /workspace/DIODE/train/outdoor/scene_00018/sca...  \n16880  /workspace/DIODE/train/outdoor/scene_00018/sca...  \n16881  /workspace/DIODE/train/outdoor/scene_00018/sca...  \n16882  /workspace/DIODE/train/outdoor/scene_00018/sca...  \n16883  /workspace/DIODE/train/outdoor/scene_00018/sca...  \n\n[16884 rows x 2 columns]",
      "text/html": "<div>\n<style scoped>\n    .dataframe tbody tr th:only-of-type {\n        vertical-align: middle;\n    }\n\n    .dataframe tbody tr th {\n        vertical-align: top;\n    }\n\n    .dataframe thead th {\n        text-align: right;\n    }\n</style>\n<table border=\"1\" class=\"dataframe\">\n  <thead>\n    <tr style=\"text-align: right;\">\n      <th></th>\n      <th>raw_path</th>\n      <th>depth_path</th>\n    </tr>\n  </thead>\n  <tbody>\n    <tr>\n      <th>0</th>\n      <td>/workspace/DIODE/train/outdoor/scene_00007/sca...</td>\n      <td>/workspace/DIODE/train/outdoor/scene_00007/sca...</td>\n    </tr>\n    <tr>\n      <th>1</th>\n      <td>/workspace/DIODE/train/outdoor/scene_00007/sca...</td>\n      <td>/workspace/DIODE/train/outdoor/scene_00007/sca...</td>\n    </tr>\n    <tr>\n      <th>2</th>\n      <td>/workspace/DIODE/train/outdoor/scene_00007/sca...</td>\n      <td>/workspace/DIODE/train/outdoor/scene_00007/sca...</td>\n    </tr>\n    <tr>\n      <th>3</th>\n      <td>/workspace/DIODE/train/outdoor/scene_00007/sca...</td>\n      <td>/workspace/DIODE/train/outdoor/scene_00007/sca...</td>\n    </tr>\n    <tr>\n      <th>4</th>\n      <td>/workspace/DIODE/train/outdoor/scene_00007/sca...</td>\n      <td>/workspace/DIODE/train/outdoor/scene_00007/sca...</td>\n    </tr>\n    <tr>\n      <th>...</th>\n      <td>...</td>\n      <td>...</td>\n    </tr>\n    <tr>\n      <th>16879</th>\n      <td>/workspace/DIODE/train/outdoor/scene_00018/sca...</td>\n      <td>/workspace/DIODE/train/outdoor/scene_00018/sca...</td>\n    </tr>\n    <tr>\n      <th>16880</th>\n      <td>/workspace/DIODE/train/outdoor/scene_00018/sca...</td>\n      <td>/workspace/DIODE/train/outdoor/scene_00018/sca...</td>\n    </tr>\n    <tr>\n      <th>16881</th>\n      <td>/workspace/DIODE/train/outdoor/scene_00018/sca...</td>\n      <td>/workspace/DIODE/train/outdoor/scene_00018/sca...</td>\n    </tr>\n    <tr>\n      <th>16882</th>\n      <td>/workspace/DIODE/train/outdoor/scene_00018/sca...</td>\n      <td>/workspace/DIODE/train/outdoor/scene_00018/sca...</td>\n    </tr>\n    <tr>\n      <th>16883</th>\n      <td>/workspace/DIODE/train/outdoor/scene_00018/sca...</td>\n      <td>/workspace/DIODE/train/outdoor/scene_00018/sca...</td>\n    </tr>\n  </tbody>\n</table>\n<p>16884 rows × 2 columns</p>\n</div>"
     },
     "metadata": {},
     "output_type": "display_data"
    },
    {
     "data": {
      "text/plain": "                                              raw_path  \\\n0    /workspace/DIODE/val/outdoor/scene_00022/scan_...   \n1    /workspace/DIODE/val/outdoor/scene_00022/scan_...   \n2    /workspace/DIODE/val/outdoor/scene_00022/scan_...   \n3    /workspace/DIODE/val/outdoor/scene_00022/scan_...   \n4    /workspace/DIODE/val/outdoor/scene_00022/scan_...   \n..                                                 ...   \n441  /workspace/DIODE/val/outdoor/scene_00024/scan_...   \n442  /workspace/DIODE/val/outdoor/scene_00024/scan_...   \n443  /workspace/DIODE/val/outdoor/scene_00024/scan_...   \n444  /workspace/DIODE/val/outdoor/scene_00024/scan_...   \n445  /workspace/DIODE/val/outdoor/scene_00024/scan_...   \n\n                                            depth_path  \n0    /workspace/DIODE/val/outdoor/scene_00022/scan_...  \n1    /workspace/DIODE/val/outdoor/scene_00022/scan_...  \n2    /workspace/DIODE/val/outdoor/scene_00022/scan_...  \n3    /workspace/DIODE/val/outdoor/scene_00022/scan_...  \n4    /workspace/DIODE/val/outdoor/scene_00022/scan_...  \n..                                                 ...  \n441  /workspace/DIODE/val/outdoor/scene_00024/scan_...  \n442  /workspace/DIODE/val/outdoor/scene_00024/scan_...  \n443  /workspace/DIODE/val/outdoor/scene_00024/scan_...  \n444  /workspace/DIODE/val/outdoor/scene_00024/scan_...  \n445  /workspace/DIODE/val/outdoor/scene_00024/scan_...  \n\n[446 rows x 2 columns]",
      "text/html": "<div>\n<style scoped>\n    .dataframe tbody tr th:only-of-type {\n        vertical-align: middle;\n    }\n\n    .dataframe tbody tr th {\n        vertical-align: top;\n    }\n\n    .dataframe thead th {\n        text-align: right;\n    }\n</style>\n<table border=\"1\" class=\"dataframe\">\n  <thead>\n    <tr style=\"text-align: right;\">\n      <th></th>\n      <th>raw_path</th>\n      <th>depth_path</th>\n    </tr>\n  </thead>\n  <tbody>\n    <tr>\n      <th>0</th>\n      <td>/workspace/DIODE/val/outdoor/scene_00022/scan_...</td>\n      <td>/workspace/DIODE/val/outdoor/scene_00022/scan_...</td>\n    </tr>\n    <tr>\n      <th>1</th>\n      <td>/workspace/DIODE/val/outdoor/scene_00022/scan_...</td>\n      <td>/workspace/DIODE/val/outdoor/scene_00022/scan_...</td>\n    </tr>\n    <tr>\n      <th>2</th>\n      <td>/workspace/DIODE/val/outdoor/scene_00022/scan_...</td>\n      <td>/workspace/DIODE/val/outdoor/scene_00022/scan_...</td>\n    </tr>\n    <tr>\n      <th>3</th>\n      <td>/workspace/DIODE/val/outdoor/scene_00022/scan_...</td>\n      <td>/workspace/DIODE/val/outdoor/scene_00022/scan_...</td>\n    </tr>\n    <tr>\n      <th>4</th>\n      <td>/workspace/DIODE/val/outdoor/scene_00022/scan_...</td>\n      <td>/workspace/DIODE/val/outdoor/scene_00022/scan_...</td>\n    </tr>\n    <tr>\n      <th>...</th>\n      <td>...</td>\n      <td>...</td>\n    </tr>\n    <tr>\n      <th>441</th>\n      <td>/workspace/DIODE/val/outdoor/scene_00024/scan_...</td>\n      <td>/workspace/DIODE/val/outdoor/scene_00024/scan_...</td>\n    </tr>\n    <tr>\n      <th>442</th>\n      <td>/workspace/DIODE/val/outdoor/scene_00024/scan_...</td>\n      <td>/workspace/DIODE/val/outdoor/scene_00024/scan_...</td>\n    </tr>\n    <tr>\n      <th>443</th>\n      <td>/workspace/DIODE/val/outdoor/scene_00024/scan_...</td>\n      <td>/workspace/DIODE/val/outdoor/scene_00024/scan_...</td>\n    </tr>\n    <tr>\n      <th>444</th>\n      <td>/workspace/DIODE/val/outdoor/scene_00024/scan_...</td>\n      <td>/workspace/DIODE/val/outdoor/scene_00024/scan_...</td>\n    </tr>\n    <tr>\n      <th>445</th>\n      <td>/workspace/DIODE/val/outdoor/scene_00024/scan_...</td>\n      <td>/workspace/DIODE/val/outdoor/scene_00024/scan_...</td>\n    </tr>\n  </tbody>\n</table>\n<p>446 rows × 2 columns</p>\n</div>"
     },
     "metadata": {},
     "output_type": "display_data"
    }
   ],
   "source": [
    "os.chdir('D:\\\\Informatics\\\\Μεταπτυχιακό\\\\Εξάμηνο Γ\\\\dataset\\\\DIODE')\n",
    "\n",
    "display(pd.read_csv('diode_train.csv'))\n",
    "display(pd.read_csv('diode_val.csv'))"
   ],
   "metadata": {
    "collapsed": false
   }
  },
  {
   "cell_type": "markdown",
   "source": [
    "#### Create KITTI Selection CSV file"
   ],
   "metadata": {
    "collapsed": false
   }
  },
  {
   "cell_type": "code",
   "execution_count": 3,
   "outputs": [],
   "source": [
    "os.chdir('D:\\\\Informatics\\\\Μεταπτυχιακό\\\\Εξάμηνο Γ\\\\dataset\\\\KITTI')\n",
    "\n",
    "df = pd.read_csv('kitti_selection.csv', header=None)\n",
    "df.columns = ['raw_path', 'depth_path']\n",
    "df['raw_path'] = df['raw_path'].str[1:]\n",
    "df['depth_path'] = df['depth_path'].str[1:]\n",
    "df = '/workspace' + df # modify path to kitti_selection folder\n",
    "df.to_csv('kitti_selection_banet.csv', index=False)"
   ],
   "metadata": {
    "collapsed": false,
    "ExecuteTime": {
     "end_time": "2024-03-16T11:38:04.576985900Z",
     "start_time": "2024-03-16T11:38:04.563357700Z"
    }
   }
  },
  {
   "cell_type": "markdown",
   "source": [
    "#### Display the files"
   ],
   "metadata": {
    "collapsed": false
   }
  },
  {
   "cell_type": "code",
   "execution_count": 4,
   "outputs": [
    {
     "data": {
      "text/plain": "                                              raw_path  \\\n0    /workspace/kitti_selection/selection_image/201...   \n1    /workspace/kitti_selection/selection_image/201...   \n2    /workspace/kitti_selection/selection_image/201...   \n3    /workspace/kitti_selection/selection_image/201...   \n4    /workspace/kitti_selection/selection_image/201...   \n..                                                 ...   \n995  /workspace/kitti_selection/selection_image/201...   \n996  /workspace/kitti_selection/selection_image/201...   \n997  /workspace/kitti_selection/selection_image/201...   \n998  /workspace/kitti_selection/selection_image/201...   \n999  /workspace/kitti_selection/selection_image/201...   \n\n                                            depth_path  \n0    /workspace/kitti_selection/selection_npy/2011_...  \n1    /workspace/kitti_selection/selection_npy/2011_...  \n2    /workspace/kitti_selection/selection_npy/2011_...  \n3    /workspace/kitti_selection/selection_npy/2011_...  \n4    /workspace/kitti_selection/selection_npy/2011_...  \n..                                                 ...  \n995  /workspace/kitti_selection/selection_npy/2011_...  \n996  /workspace/kitti_selection/selection_npy/2011_...  \n997  /workspace/kitti_selection/selection_npy/2011_...  \n998  /workspace/kitti_selection/selection_npy/2011_...  \n999  /workspace/kitti_selection/selection_npy/2011_...  \n\n[1000 rows x 2 columns]",
      "text/html": "<div>\n<style scoped>\n    .dataframe tbody tr th:only-of-type {\n        vertical-align: middle;\n    }\n\n    .dataframe tbody tr th {\n        vertical-align: top;\n    }\n\n    .dataframe thead th {\n        text-align: right;\n    }\n</style>\n<table border=\"1\" class=\"dataframe\">\n  <thead>\n    <tr style=\"text-align: right;\">\n      <th></th>\n      <th>raw_path</th>\n      <th>depth_path</th>\n    </tr>\n  </thead>\n  <tbody>\n    <tr>\n      <th>0</th>\n      <td>/workspace/kitti_selection/selection_image/201...</td>\n      <td>/workspace/kitti_selection/selection_npy/2011_...</td>\n    </tr>\n    <tr>\n      <th>1</th>\n      <td>/workspace/kitti_selection/selection_image/201...</td>\n      <td>/workspace/kitti_selection/selection_npy/2011_...</td>\n    </tr>\n    <tr>\n      <th>2</th>\n      <td>/workspace/kitti_selection/selection_image/201...</td>\n      <td>/workspace/kitti_selection/selection_npy/2011_...</td>\n    </tr>\n    <tr>\n      <th>3</th>\n      <td>/workspace/kitti_selection/selection_image/201...</td>\n      <td>/workspace/kitti_selection/selection_npy/2011_...</td>\n    </tr>\n    <tr>\n      <th>4</th>\n      <td>/workspace/kitti_selection/selection_image/201...</td>\n      <td>/workspace/kitti_selection/selection_npy/2011_...</td>\n    </tr>\n    <tr>\n      <th>...</th>\n      <td>...</td>\n      <td>...</td>\n    </tr>\n    <tr>\n      <th>995</th>\n      <td>/workspace/kitti_selection/selection_image/201...</td>\n      <td>/workspace/kitti_selection/selection_npy/2011_...</td>\n    </tr>\n    <tr>\n      <th>996</th>\n      <td>/workspace/kitti_selection/selection_image/201...</td>\n      <td>/workspace/kitti_selection/selection_npy/2011_...</td>\n    </tr>\n    <tr>\n      <th>997</th>\n      <td>/workspace/kitti_selection/selection_image/201...</td>\n      <td>/workspace/kitti_selection/selection_npy/2011_...</td>\n    </tr>\n    <tr>\n      <th>998</th>\n      <td>/workspace/kitti_selection/selection_image/201...</td>\n      <td>/workspace/kitti_selection/selection_npy/2011_...</td>\n    </tr>\n    <tr>\n      <th>999</th>\n      <td>/workspace/kitti_selection/selection_image/201...</td>\n      <td>/workspace/kitti_selection/selection_npy/2011_...</td>\n    </tr>\n  </tbody>\n</table>\n<p>1000 rows × 2 columns</p>\n</div>"
     },
     "metadata": {},
     "output_type": "display_data"
    }
   ],
   "source": [
    "os.chdir('D:\\\\Informatics\\\\Μεταπτυχιακό\\\\Εξάμηνο Γ\\\\dataset\\\\KITTI')\n",
    "\n",
    "display(pd.read_csv('kitti_selection_banet.csv'))"
   ],
   "metadata": {
    "collapsed": false,
    "ExecuteTime": {
     "end_time": "2024-03-16T11:40:06.900331400Z",
     "start_time": "2024-03-16T11:40:06.884747700Z"
    }
   }
  },
  {
   "cell_type": "markdown",
   "source": [
    "#### Create IHU CSV file"
   ],
   "metadata": {
    "collapsed": false
   }
  },
  {
   "cell_type": "code",
   "execution_count": 8,
   "outputs": [],
   "source": [
    "os.chdir('D:\\\\Informatics\\\\Μεταπτυχιακό\\\\Εξάμηνο Γ\\\\dataset\\\\IHU')\n",
    "\n",
    "df = pd.read_csv('ihu.csv', header=None)\n",
    "df.columns = ['raw_path']\n",
    "df['raw_path'] = df['raw_path'].str[1:]\n",
    "df = '/workspace' + df # modify path to ihu_resized folder\n",
    "df['depth_path'] = df['raw_path']\n",
    "df.to_csv('ihu_banet.csv', index=False)"
   ],
   "metadata": {
    "collapsed": false,
    "ExecuteTime": {
     "end_time": "2024-03-16T12:20:28.308497600Z",
     "start_time": "2024-03-16T12:20:28.302495800Z"
    }
   }
  },
  {
   "cell_type": "markdown",
   "source": [
    "#### Display the files"
   ],
   "metadata": {
    "collapsed": false
   }
  },
  {
   "cell_type": "code",
   "execution_count": 9,
   "outputs": [
    {
     "data": {
      "text/plain": "                                      raw_path  \\\n0   /workspace/ihu_resized/20231019_175238.jpg   \n1   /workspace/ihu_resized/20231019_175308.jpg   \n2   /workspace/ihu_resized/20231019_175423.jpg   \n3   /workspace/ihu_resized/20231019_175447.jpg   \n4   /workspace/ihu_resized/20231019_175523.jpg   \n5   /workspace/ihu_resized/20231019_175604.jpg   \n6   /workspace/ihu_resized/20231019_175630.jpg   \n7   /workspace/ihu_resized/20231019_175653.jpg   \n8   /workspace/ihu_resized/20231019_175735.jpg   \n9   /workspace/ihu_resized/20231019_175824.jpg   \n10  /workspace/ihu_resized/20231019_175904.jpg   \n11  /workspace/ihu_resized/20231019_180628.jpg   \n12  /workspace/ihu_resized/20231019_180908.jpg   \n13  /workspace/ihu_resized/20231019_180951.jpg   \n14  /workspace/ihu_resized/20231019_181148.jpg   \n15  /workspace/ihu_resized/20231019_181309.jpg   \n16  /workspace/ihu_resized/20231019_181325.jpg   \n17  /workspace/ihu_resized/20231019_181412.jpg   \n18  /workspace/ihu_resized/20231019_181456.jpg   \n19  /workspace/ihu_resized/20231019_181544.jpg   \n20  /workspace/ihu_resized/20231019_181651.jpg   \n21  /workspace/ihu_resized/20231019_181718.jpg   \n22  /workspace/ihu_resized/20231019_181757.jpg   \n23  /workspace/ihu_resized/20231019_181807.jpg   \n24  /workspace/ihu_resized/20231019_181906.jpg   \n25  /workspace/ihu_resized/20231019_181934.jpg   \n26  /workspace/ihu_resized/20231019_182114.jpg   \n27  /workspace/ihu_resized/20231019_182140.jpg   \n28  /workspace/ihu_resized/20231019_182219.jpg   \n29  /workspace/ihu_resized/20231019_182446.jpg   \n\n                                    depth_path  \n0   /workspace/ihu_resized/20231019_175238.jpg  \n1   /workspace/ihu_resized/20231019_175308.jpg  \n2   /workspace/ihu_resized/20231019_175423.jpg  \n3   /workspace/ihu_resized/20231019_175447.jpg  \n4   /workspace/ihu_resized/20231019_175523.jpg  \n5   /workspace/ihu_resized/20231019_175604.jpg  \n6   /workspace/ihu_resized/20231019_175630.jpg  \n7   /workspace/ihu_resized/20231019_175653.jpg  \n8   /workspace/ihu_resized/20231019_175735.jpg  \n9   /workspace/ihu_resized/20231019_175824.jpg  \n10  /workspace/ihu_resized/20231019_175904.jpg  \n11  /workspace/ihu_resized/20231019_180628.jpg  \n12  /workspace/ihu_resized/20231019_180908.jpg  \n13  /workspace/ihu_resized/20231019_180951.jpg  \n14  /workspace/ihu_resized/20231019_181148.jpg  \n15  /workspace/ihu_resized/20231019_181309.jpg  \n16  /workspace/ihu_resized/20231019_181325.jpg  \n17  /workspace/ihu_resized/20231019_181412.jpg  \n18  /workspace/ihu_resized/20231019_181456.jpg  \n19  /workspace/ihu_resized/20231019_181544.jpg  \n20  /workspace/ihu_resized/20231019_181651.jpg  \n21  /workspace/ihu_resized/20231019_181718.jpg  \n22  /workspace/ihu_resized/20231019_181757.jpg  \n23  /workspace/ihu_resized/20231019_181807.jpg  \n24  /workspace/ihu_resized/20231019_181906.jpg  \n25  /workspace/ihu_resized/20231019_181934.jpg  \n26  /workspace/ihu_resized/20231019_182114.jpg  \n27  /workspace/ihu_resized/20231019_182140.jpg  \n28  /workspace/ihu_resized/20231019_182219.jpg  \n29  /workspace/ihu_resized/20231019_182446.jpg  ",
      "text/html": "<div>\n<style scoped>\n    .dataframe tbody tr th:only-of-type {\n        vertical-align: middle;\n    }\n\n    .dataframe tbody tr th {\n        vertical-align: top;\n    }\n\n    .dataframe thead th {\n        text-align: right;\n    }\n</style>\n<table border=\"1\" class=\"dataframe\">\n  <thead>\n    <tr style=\"text-align: right;\">\n      <th></th>\n      <th>raw_path</th>\n      <th>depth_path</th>\n    </tr>\n  </thead>\n  <tbody>\n    <tr>\n      <th>0</th>\n      <td>/workspace/ihu_resized/20231019_175238.jpg</td>\n      <td>/workspace/ihu_resized/20231019_175238.jpg</td>\n    </tr>\n    <tr>\n      <th>1</th>\n      <td>/workspace/ihu_resized/20231019_175308.jpg</td>\n      <td>/workspace/ihu_resized/20231019_175308.jpg</td>\n    </tr>\n    <tr>\n      <th>2</th>\n      <td>/workspace/ihu_resized/20231019_175423.jpg</td>\n      <td>/workspace/ihu_resized/20231019_175423.jpg</td>\n    </tr>\n    <tr>\n      <th>3</th>\n      <td>/workspace/ihu_resized/20231019_175447.jpg</td>\n      <td>/workspace/ihu_resized/20231019_175447.jpg</td>\n    </tr>\n    <tr>\n      <th>4</th>\n      <td>/workspace/ihu_resized/20231019_175523.jpg</td>\n      <td>/workspace/ihu_resized/20231019_175523.jpg</td>\n    </tr>\n    <tr>\n      <th>5</th>\n      <td>/workspace/ihu_resized/20231019_175604.jpg</td>\n      <td>/workspace/ihu_resized/20231019_175604.jpg</td>\n    </tr>\n    <tr>\n      <th>6</th>\n      <td>/workspace/ihu_resized/20231019_175630.jpg</td>\n      <td>/workspace/ihu_resized/20231019_175630.jpg</td>\n    </tr>\n    <tr>\n      <th>7</th>\n      <td>/workspace/ihu_resized/20231019_175653.jpg</td>\n      <td>/workspace/ihu_resized/20231019_175653.jpg</td>\n    </tr>\n    <tr>\n      <th>8</th>\n      <td>/workspace/ihu_resized/20231019_175735.jpg</td>\n      <td>/workspace/ihu_resized/20231019_175735.jpg</td>\n    </tr>\n    <tr>\n      <th>9</th>\n      <td>/workspace/ihu_resized/20231019_175824.jpg</td>\n      <td>/workspace/ihu_resized/20231019_175824.jpg</td>\n    </tr>\n    <tr>\n      <th>10</th>\n      <td>/workspace/ihu_resized/20231019_175904.jpg</td>\n      <td>/workspace/ihu_resized/20231019_175904.jpg</td>\n    </tr>\n    <tr>\n      <th>11</th>\n      <td>/workspace/ihu_resized/20231019_180628.jpg</td>\n      <td>/workspace/ihu_resized/20231019_180628.jpg</td>\n    </tr>\n    <tr>\n      <th>12</th>\n      <td>/workspace/ihu_resized/20231019_180908.jpg</td>\n      <td>/workspace/ihu_resized/20231019_180908.jpg</td>\n    </tr>\n    <tr>\n      <th>13</th>\n      <td>/workspace/ihu_resized/20231019_180951.jpg</td>\n      <td>/workspace/ihu_resized/20231019_180951.jpg</td>\n    </tr>\n    <tr>\n      <th>14</th>\n      <td>/workspace/ihu_resized/20231019_181148.jpg</td>\n      <td>/workspace/ihu_resized/20231019_181148.jpg</td>\n    </tr>\n    <tr>\n      <th>15</th>\n      <td>/workspace/ihu_resized/20231019_181309.jpg</td>\n      <td>/workspace/ihu_resized/20231019_181309.jpg</td>\n    </tr>\n    <tr>\n      <th>16</th>\n      <td>/workspace/ihu_resized/20231019_181325.jpg</td>\n      <td>/workspace/ihu_resized/20231019_181325.jpg</td>\n    </tr>\n    <tr>\n      <th>17</th>\n      <td>/workspace/ihu_resized/20231019_181412.jpg</td>\n      <td>/workspace/ihu_resized/20231019_181412.jpg</td>\n    </tr>\n    <tr>\n      <th>18</th>\n      <td>/workspace/ihu_resized/20231019_181456.jpg</td>\n      <td>/workspace/ihu_resized/20231019_181456.jpg</td>\n    </tr>\n    <tr>\n      <th>19</th>\n      <td>/workspace/ihu_resized/20231019_181544.jpg</td>\n      <td>/workspace/ihu_resized/20231019_181544.jpg</td>\n    </tr>\n    <tr>\n      <th>20</th>\n      <td>/workspace/ihu_resized/20231019_181651.jpg</td>\n      <td>/workspace/ihu_resized/20231019_181651.jpg</td>\n    </tr>\n    <tr>\n      <th>21</th>\n      <td>/workspace/ihu_resized/20231019_181718.jpg</td>\n      <td>/workspace/ihu_resized/20231019_181718.jpg</td>\n    </tr>\n    <tr>\n      <th>22</th>\n      <td>/workspace/ihu_resized/20231019_181757.jpg</td>\n      <td>/workspace/ihu_resized/20231019_181757.jpg</td>\n    </tr>\n    <tr>\n      <th>23</th>\n      <td>/workspace/ihu_resized/20231019_181807.jpg</td>\n      <td>/workspace/ihu_resized/20231019_181807.jpg</td>\n    </tr>\n    <tr>\n      <th>24</th>\n      <td>/workspace/ihu_resized/20231019_181906.jpg</td>\n      <td>/workspace/ihu_resized/20231019_181906.jpg</td>\n    </tr>\n    <tr>\n      <th>25</th>\n      <td>/workspace/ihu_resized/20231019_181934.jpg</td>\n      <td>/workspace/ihu_resized/20231019_181934.jpg</td>\n    </tr>\n    <tr>\n      <th>26</th>\n      <td>/workspace/ihu_resized/20231019_182114.jpg</td>\n      <td>/workspace/ihu_resized/20231019_182114.jpg</td>\n    </tr>\n    <tr>\n      <th>27</th>\n      <td>/workspace/ihu_resized/20231019_182140.jpg</td>\n      <td>/workspace/ihu_resized/20231019_182140.jpg</td>\n    </tr>\n    <tr>\n      <th>28</th>\n      <td>/workspace/ihu_resized/20231019_182219.jpg</td>\n      <td>/workspace/ihu_resized/20231019_182219.jpg</td>\n    </tr>\n    <tr>\n      <th>29</th>\n      <td>/workspace/ihu_resized/20231019_182446.jpg</td>\n      <td>/workspace/ihu_resized/20231019_182446.jpg</td>\n    </tr>\n  </tbody>\n</table>\n</div>"
     },
     "metadata": {},
     "output_type": "display_data"
    }
   ],
   "source": [
    "os.chdir('D:\\\\Informatics\\\\Μεταπτυχιακό\\\\Εξάμηνο Γ\\\\dataset\\\\IHU')\n",
    "\n",
    "display(pd.read_csv('ihu_banet.csv'))"
   ],
   "metadata": {
    "collapsed": false,
    "ExecuteTime": {
     "end_time": "2024-03-16T12:21:46.334968Z",
     "start_time": "2024-03-16T12:21:46.325967200Z"
    }
   }
  },
  {
   "cell_type": "code",
   "execution_count": null,
   "outputs": [],
   "source": [],
   "metadata": {
    "collapsed": false
   }
  }
 ],
 "metadata": {
  "kernelspec": {
   "display_name": "Python 3",
   "language": "python",
   "name": "python3"
  },
  "language_info": {
   "codemirror_mode": {
    "name": "ipython",
    "version": 2
   },
   "file_extension": ".py",
   "mimetype": "text/x-python",
   "name": "python",
   "nbconvert_exporter": "python",
   "pygments_lexer": "ipython2",
   "version": "2.7.6"
  }
 },
 "nbformat": 4,
 "nbformat_minor": 0
}
