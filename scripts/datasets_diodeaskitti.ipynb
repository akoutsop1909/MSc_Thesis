{
 "cells": [
  {
   "cell_type": "markdown",
   "source": [
    "#### Import packages"
   ],
   "metadata": {
    "collapsed": false
   }
  },
  {
   "cell_type": "code",
   "execution_count": 53,
   "metadata": {
    "collapsed": true,
    "ExecuteTime": {
     "end_time": "2024-03-18T14:22:12.474445300Z",
     "start_time": "2024-03-18T14:22:12.438423300Z"
    }
   },
   "outputs": [],
   "source": [
    "import pandas as pd\n",
    "import numpy as np\n",
    "import cv2 # installed from opencv-python\n",
    "import os\n",
    "import shutil"
   ]
  },
  {
   "cell_type": "markdown",
   "source": [
    "#### Define functions"
   ],
   "metadata": {
    "collapsed": false
   }
  },
  {
   "cell_type": "code",
   "execution_count": 64,
   "outputs": [],
   "source": [
    "def fetch_data(type):\n",
    "    \"\"\"Returns a dataframe of either 'train' or 'val' data including depth maps in png format.\"\"\"\n",
    "    df = pd.read_csv(type + '_outdoor.csv', header=None)\n",
    "    df = df.drop(df.columns[[2, 3]], axis=1)\n",
    "    df.columns = ['image', 'depth']\n",
    "\n",
    "    return df\n",
    "\n",
    "def mkdata(type):\n",
    "    \"\"\"Creates the new dataset txt file of either 'train' or 'val'.\"\"\"\n",
    "    raw = []\n",
    "    depth = []\n",
    "    camera = []\n",
    "\n",
    "    for root, dirs, files in os.walk(type):\n",
    "        for fileName in files:\n",
    "            dest = os.path.join(root[len(type):], fileName).replace('\\\\', '/')[1:]\n",
    "            depth.append(dest)\n",
    "            raw.append('2011_09_26/' + dest.split('/')[0] + '/' + dest.split('/')[3] + '/data/' + dest.split('/')[4])\n",
    "            camera.append('886.81')\n",
    "\n",
    "    with open(type + \"_dataset.txt\", 'w') as outfile:\n",
    "        for elem in zip(raw, depth, camera):\n",
    "            outfile.write(str(elem[0]) + \" \" + elem[1] + \" \" + elem[2] +\"\\n\")\n",
    "    return\n",
    "\n",
    "def mkraw(type):\n",
    "    \"\"\"Creates the raw folder structure of either 'train' or 'val'.\"\"\"\n",
    "    df = fetch_data(type)\n",
    "    dest = []\n",
    "    files = []\n",
    "\n",
    "    f = open(type + \"_dataset.txt\",\"r\")\n",
    "    lines = f.readlines()\n",
    "    for x in lines:\n",
    "        temp = x.split(' ')[0]\n",
    "        dest.append(\"../DIODEASKITTI/\" + \"/\".join(temp.split(\"/\", 4)[:4]))\n",
    "        files.append (temp.split(\"/\")[4])\n",
    "    f.close()\n",
    "\n",
    "    for filePath in dest:\n",
    "        if not os.path.exists(filePath):\n",
    "            os.makedirs(filePath)\n",
    "\n",
    "    for k in range(len(files)):\n",
    "        shutil.copy(df['image'][k], dest[k])\n",
    "        os.rename(dest[k]+'\\\\'+df['image'][k].split('/')[5], dest[k]+'\\\\'+files[k])\n",
    "    return\n",
    "\n",
    "def mkdepth(type):\n",
    "    \"\"\"Creates the depth map folder structure of either 'train' or 'val'.\"\"\"\n",
    "    df = fetch_data(type)\n",
    "    dest = []\n",
    "    files = []\n",
    "\n",
    "    f = open(type + \"_dataset.txt\",\"r\")\n",
    "    lines = f.readlines()\n",
    "    for x in lines:\n",
    "        temp = x.split(' ')[1]\n",
    "        dest.append(\"../DIODEASKITTI/data_depth_annotated/\" + \"/\".join(temp.split(\"/\", 4)[:4]))\n",
    "        files.append (temp.split(\"/\")[4])\n",
    "    f.close()\n",
    "\n",
    "    for filePath in dest:\n",
    "        if not os.path.exists(filePath):\n",
    "            os.makedirs(filePath)\n",
    "\n",
    "    for k in range(len(files)):\n",
    "        depth = np.load(df['depth'][k])\n",
    "        is_success, im_buf_arr = cv2.imencode('.png', depth)\n",
    "        im_buf_arr.tofile(dest[k]+'\\\\'+files[k])\n",
    "    return"
   ],
   "metadata": {
    "collapsed": false,
    "ExecuteTime": {
     "end_time": "2024-03-18T15:07:27.075817900Z",
     "start_time": "2024-03-18T15:07:27.072314800Z"
    }
   }
  },
  {
   "cell_type": "markdown",
   "source": [
    "#### Create new dataset files"
   ],
   "metadata": {
    "collapsed": false
   }
  },
  {
   "cell_type": "code",
   "execution_count": 59,
   "outputs": [],
   "source": [
    "os.chdir('D:\\\\Informatics\\\\Μεταπτυχιακό\\\\Εξάμηνο Γ\\\\dataset\\\\KITTI')\n",
    "\n",
    "# call the function for 'train' and 'val' data\n",
    "mkdata('train')\n",
    "mkdata('val')"
   ],
   "metadata": {
    "collapsed": false,
    "ExecuteTime": {
     "end_time": "2024-03-18T14:36:48.632592600Z",
     "start_time": "2024-03-18T14:36:48.542927900Z"
    }
   }
  },
  {
   "cell_type": "markdown",
   "source": [
    "#### Create raw folder structure"
   ],
   "metadata": {
    "collapsed": false
   }
  },
  {
   "cell_type": "code",
   "execution_count": 65,
   "outputs": [],
   "source": [
    "os.chdir('D:\\\\Informatics\\\\Μεταπτυχιακό\\\\Εξάμηνο Γ\\\\dataset\\\\DIODE')\n",
    "\n",
    "# call the function for 'train' and 'val' data\n",
    "mkraw('train')\n",
    "mkraw('val')"
   ],
   "metadata": {
    "collapsed": false,
    "ExecuteTime": {
     "end_time": "2024-03-18T15:07:48.567508900Z",
     "start_time": "2024-03-18T15:07:33.014352200Z"
    }
   }
  },
  {
   "cell_type": "markdown",
   "source": [
    "#### Create depth map folder structure"
   ],
   "metadata": {
    "collapsed": false
   }
  },
  {
   "cell_type": "code",
   "execution_count": 67,
   "outputs": [],
   "source": [
    "os.chdir('D:\\\\Informatics\\\\Μεταπτυχιακό\\\\Εξάμηνο Γ\\\\dataset\\\\DIODE')\n",
    "\n",
    "# call the function for 'train' and 'val' data\n",
    "mkdepth('train')\n",
    "mkdepth('val')"
   ],
   "metadata": {
    "collapsed": false,
    "ExecuteTime": {
     "end_time": "2024-03-18T15:21:18.348823400Z",
     "start_time": "2024-03-18T15:20:59.629313600Z"
    }
   }
  },
  {
   "cell_type": "code",
   "execution_count": null,
   "outputs": [],
   "source": [],
   "metadata": {
    "collapsed": false
   }
  }
 ],
 "metadata": {
  "kernelspec": {
   "display_name": "Python 3",
   "language": "python",
   "name": "python3"
  },
  "language_info": {
   "codemirror_mode": {
    "name": "ipython",
    "version": 2
   },
   "file_extension": ".py",
   "mimetype": "text/x-python",
   "name": "python",
   "nbconvert_exporter": "python",
   "pygments_lexer": "ipython2",
   "version": "2.7.6"
  }
 },
 "nbformat": 4,
 "nbformat_minor": 0
}
