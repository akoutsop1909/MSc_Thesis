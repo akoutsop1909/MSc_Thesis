{
 "cells": [
  {
   "cell_type": "markdown",
   "source": [
    "#### Import packages"
   ],
   "metadata": {
    "collapsed": false
   }
  },
  {
   "cell_type": "code",
   "execution_count": 1,
   "metadata": {
    "collapsed": true,
    "ExecuteTime": {
     "end_time": "2024-03-30T12:00:10.603050800Z",
     "start_time": "2024-03-30T12:00:09.432625600Z"
    }
   },
   "outputs": [],
   "source": [
    "import pandas as pd\n",
    "import numpy as np\n",
    "import cv2 # installed from opencv-python\n",
    "import os\n",
    "import shutil"
   ]
  },
  {
   "cell_type": "markdown",
   "source": [
    "#### Define functions"
   ],
   "metadata": {
    "collapsed": false
   }
  },
  {
   "cell_type": "code",
   "execution_count": 4,
   "outputs": [],
   "source": [
    "def fetch_data(type):\n",
    "    \"\"\"Returns a DIODE dataframe of either 'train' or 'val' data.\"\"\"\n",
    "    df = pd.read_csv(type + '_outdoor.csv', header=None)\n",
    "    df = df.drop(df.columns[[2, 3]], axis=1)\n",
    "    df.columns = ['image', 'depth']\n",
    "\n",
    "    return df\n",
    "\n",
    "def mkdata(type):\n",
    "    \"\"\"Creates a DIODEASKITTI TXT file of either 'train' or 'val' data.\"\"\"\n",
    "    raw = []\n",
    "    depth = []\n",
    "    camera = []\n",
    "\n",
    "    for root, dirs, files in os.walk(type):\n",
    "        for fileName in files:\n",
    "            dest = os.path.join(root[len(type):], fileName).replace('\\\\', '/')[1:]\n",
    "            depth.append(dest)\n",
    "            raw.append('2011_09_26/'+dest.split('/')[0]+'/'+dest.split('/')[3]+'/data/'+dest.split('/')[4])\n",
    "            camera.append('886.81')\n",
    "\n",
    "    with open(type + \"_diodeaskitti.txt\", 'w') as outfile:\n",
    "        for elem in zip(raw, depth, camera):\n",
    "            outfile.write(elem[0] + \" \" + elem[1] + \" \" + elem[2] +\"\\n\")\n",
    "    return\n",
    "\n",
    "def mkraw(type):\n",
    "    \"\"\"Creates DIODEASKITTI raw folder structure of either 'train' or 'val' data.\"\"\"\n",
    "    df = fetch_data(type)\n",
    "    dest = []\n",
    "    files = []\n",
    "\n",
    "    # set path to diodeaskitti.txt file\n",
    "    f = open(\"D:/Informatics/Μεταπτυχιακό/Εξάμηνο Γ/dataset/DIODEASKITTI/\"+type+\"_diodeaskitti.txt\",\"r\")\n",
    "    lines = f.readlines()\n",
    "    for x in lines:\n",
    "        temp = x.split(' ')[0]\n",
    "        dest.append(\"../DIODEASKITTI/\"+\"/\".join(temp.split(\"/\", 4)[:4]))\n",
    "        files.append(temp.split(\"/\")[4])\n",
    "    f.close()\n",
    "\n",
    "    for path in dest:\n",
    "        if not os.path.exists(path):\n",
    "            os.makedirs(path)\n",
    "\n",
    "    for i in range(len(files)):\n",
    "        shutil.copy(df['image'][i], dest[i])\n",
    "        os.rename(dest[i]+'\\\\'+df['image'][i].split('/')[5], dest[i]+'\\\\'+files[i])\n",
    "    return\n",
    "\n",
    "def mkdepth(type):\n",
    "    \"\"\"Creates DIODEASKITTI depth folder structure of either 'train' or 'val' data.\"\"\"\n",
    "    df = fetch_data(type)\n",
    "    dest = []\n",
    "    files = []\n",
    "\n",
    "    # set path to diodeaskitti.txt file\n",
    "    f = open(\"D:/Informatics/Μεταπτυχιακό/Εξάμηνο Γ/dataset/DIODEASKITTI/\"+type+\"_diodeaskitti.txt\",\"r\")\n",
    "    lines = f.readlines()\n",
    "    for x in lines:\n",
    "        temp = x.split(' ')[1]\n",
    "        dest.append(\"../DIODEASKITTI/data_depth_annotated/\"+\"/\".join(temp.split(\"/\", 4)[:4]))\n",
    "        files.append(temp.split(\"/\")[4])\n",
    "    f.close()\n",
    "\n",
    "    for path in dest:\n",
    "        if not os.path.exists(path):\n",
    "            os.makedirs(path)\n",
    "\n",
    "    for i in range(len(files)):\n",
    "        depth = np.load(df['depth'][i])\n",
    "        is_success, im_buf_arr = cv2.imencode('.png', depth)\n",
    "        im_buf_arr.tofile(dest[i]+'\\\\'+files[i])\n",
    "    return"
   ],
   "metadata": {
    "collapsed": false,
    "ExecuteTime": {
     "end_time": "2024-03-30T12:03:47.194601300Z",
     "start_time": "2024-03-30T12:03:47.185530700Z"
    }
   }
  },
  {
   "cell_type": "markdown",
   "source": [
    "#### Create DIODEASKITTI TXT files"
   ],
   "metadata": {
    "collapsed": false
   }
  },
  {
   "cell_type": "code",
   "execution_count": 8,
   "outputs": [],
   "source": [
    "# set path to KITTI folder\n",
    "os.chdir('D:\\\\Informatics\\\\Μεταπτυχιακό\\\\Εξάμηνο Γ\\\\dataset\\\\KITTI')\n",
    "\n",
    "# call the function for 'train' and 'val' data\n",
    "mkdata('train')\n",
    "mkdata('val')"
   ],
   "metadata": {
    "collapsed": false,
    "ExecuteTime": {
     "end_time": "2024-03-19T15:44:32.475557800Z",
     "start_time": "2024-03-19T15:44:31.902461800Z"
    }
   }
  },
  {
   "cell_type": "markdown",
   "source": [
    "#### Display the files"
   ],
   "metadata": {
    "collapsed": false
   }
  },
  {
   "cell_type": "code",
   "execution_count": 4,
   "outputs": [
    {
     "data": {
      "text/plain": "                                                       0  \\\n0      2011_09_26/2011_09_26_drive_0001_sync/image_02...   \n1      2011_09_26/2011_09_26_drive_0001_sync/image_02...   \n2      2011_09_26/2011_09_26_drive_0001_sync/image_02...   \n3      2011_09_26/2011_09_26_drive_0001_sync/image_02...   \n4      2011_09_26/2011_09_26_drive_0001_sync/image_02...   \n...                                                  ...   \n16879  2011_09_26/2011_09_26_drive_0084_sync/image_03...   \n16880  2011_09_26/2011_09_26_drive_0084_sync/image_03...   \n16881  2011_09_26/2011_09_26_drive_0084_sync/image_03...   \n16882  2011_09_26/2011_09_26_drive_0084_sync/image_03...   \n16883  2011_09_26/2011_09_26_drive_0084_sync/image_03...   \n\n                                                       1       2  \n0      2011_09_26_drive_0001_sync/proj_depth/groundtr...  886.81  \n1      2011_09_26_drive_0001_sync/proj_depth/groundtr...  886.81  \n2      2011_09_26_drive_0001_sync/proj_depth/groundtr...  886.81  \n3      2011_09_26_drive_0001_sync/proj_depth/groundtr...  886.81  \n4      2011_09_26_drive_0001_sync/proj_depth/groundtr...  886.81  \n...                                                  ...     ...  \n16879  2011_09_26_drive_0084_sync/proj_depth/groundtr...  886.81  \n16880  2011_09_26_drive_0084_sync/proj_depth/groundtr...  886.81  \n16881  2011_09_26_drive_0084_sync/proj_depth/groundtr...  886.81  \n16882  2011_09_26_drive_0084_sync/proj_depth/groundtr...  886.81  \n16883  2011_09_26_drive_0084_sync/proj_depth/groundtr...  886.81  \n\n[16884 rows x 3 columns]",
      "text/html": "<div>\n<style scoped>\n    .dataframe tbody tr th:only-of-type {\n        vertical-align: middle;\n    }\n\n    .dataframe tbody tr th {\n        vertical-align: top;\n    }\n\n    .dataframe thead th {\n        text-align: right;\n    }\n</style>\n<table border=\"1\" class=\"dataframe\">\n  <thead>\n    <tr style=\"text-align: right;\">\n      <th></th>\n      <th>0</th>\n      <th>1</th>\n      <th>2</th>\n    </tr>\n  </thead>\n  <tbody>\n    <tr>\n      <th>0</th>\n      <td>2011_09_26/2011_09_26_drive_0001_sync/image_02...</td>\n      <td>2011_09_26_drive_0001_sync/proj_depth/groundtr...</td>\n      <td>886.81</td>\n    </tr>\n    <tr>\n      <th>1</th>\n      <td>2011_09_26/2011_09_26_drive_0001_sync/image_02...</td>\n      <td>2011_09_26_drive_0001_sync/proj_depth/groundtr...</td>\n      <td>886.81</td>\n    </tr>\n    <tr>\n      <th>2</th>\n      <td>2011_09_26/2011_09_26_drive_0001_sync/image_02...</td>\n      <td>2011_09_26_drive_0001_sync/proj_depth/groundtr...</td>\n      <td>886.81</td>\n    </tr>\n    <tr>\n      <th>3</th>\n      <td>2011_09_26/2011_09_26_drive_0001_sync/image_02...</td>\n      <td>2011_09_26_drive_0001_sync/proj_depth/groundtr...</td>\n      <td>886.81</td>\n    </tr>\n    <tr>\n      <th>4</th>\n      <td>2011_09_26/2011_09_26_drive_0001_sync/image_02...</td>\n      <td>2011_09_26_drive_0001_sync/proj_depth/groundtr...</td>\n      <td>886.81</td>\n    </tr>\n    <tr>\n      <th>...</th>\n      <td>...</td>\n      <td>...</td>\n      <td>...</td>\n    </tr>\n    <tr>\n      <th>16879</th>\n      <td>2011_09_26/2011_09_26_drive_0084_sync/image_03...</td>\n      <td>2011_09_26_drive_0084_sync/proj_depth/groundtr...</td>\n      <td>886.81</td>\n    </tr>\n    <tr>\n      <th>16880</th>\n      <td>2011_09_26/2011_09_26_drive_0084_sync/image_03...</td>\n      <td>2011_09_26_drive_0084_sync/proj_depth/groundtr...</td>\n      <td>886.81</td>\n    </tr>\n    <tr>\n      <th>16881</th>\n      <td>2011_09_26/2011_09_26_drive_0084_sync/image_03...</td>\n      <td>2011_09_26_drive_0084_sync/proj_depth/groundtr...</td>\n      <td>886.81</td>\n    </tr>\n    <tr>\n      <th>16882</th>\n      <td>2011_09_26/2011_09_26_drive_0084_sync/image_03...</td>\n      <td>2011_09_26_drive_0084_sync/proj_depth/groundtr...</td>\n      <td>886.81</td>\n    </tr>\n    <tr>\n      <th>16883</th>\n      <td>2011_09_26/2011_09_26_drive_0084_sync/image_03...</td>\n      <td>2011_09_26_drive_0084_sync/proj_depth/groundtr...</td>\n      <td>886.81</td>\n    </tr>\n  </tbody>\n</table>\n<p>16884 rows × 3 columns</p>\n</div>"
     },
     "metadata": {},
     "output_type": "display_data"
    },
    {
     "data": {
      "text/plain": "                                                     0  \\\n0    2011_09_26/2011_09_26_drive_0002_sync/image_02...   \n1    2011_09_26/2011_09_26_drive_0002_sync/image_02...   \n2    2011_09_26/2011_09_26_drive_0002_sync/image_02...   \n3    2011_09_26/2011_09_26_drive_0002_sync/image_02...   \n4    2011_09_26/2011_09_26_drive_0002_sync/image_02...   \n..                                                 ...   \n441  2011_09_26/2011_09_26_drive_0013_sync/image_02...   \n442  2011_09_26/2011_09_26_drive_0013_sync/image_02...   \n443  2011_09_26/2011_09_26_drive_0013_sync/image_02...   \n444  2011_09_26/2011_09_26_drive_0013_sync/image_02...   \n445  2011_09_26/2011_09_26_drive_0013_sync/image_02...   \n\n                                                     1       2  \n0    2011_09_26_drive_0002_sync/proj_depth/groundtr...  886.81  \n1    2011_09_26_drive_0002_sync/proj_depth/groundtr...  886.81  \n2    2011_09_26_drive_0002_sync/proj_depth/groundtr...  886.81  \n3    2011_09_26_drive_0002_sync/proj_depth/groundtr...  886.81  \n4    2011_09_26_drive_0002_sync/proj_depth/groundtr...  886.81  \n..                                                 ...     ...  \n441  2011_09_26_drive_0013_sync/proj_depth/groundtr...  886.81  \n442  2011_09_26_drive_0013_sync/proj_depth/groundtr...  886.81  \n443  2011_09_26_drive_0013_sync/proj_depth/groundtr...  886.81  \n444  2011_09_26_drive_0013_sync/proj_depth/groundtr...  886.81  \n445  2011_09_26_drive_0013_sync/proj_depth/groundtr...  886.81  \n\n[446 rows x 3 columns]",
      "text/html": "<div>\n<style scoped>\n    .dataframe tbody tr th:only-of-type {\n        vertical-align: middle;\n    }\n\n    .dataframe tbody tr th {\n        vertical-align: top;\n    }\n\n    .dataframe thead th {\n        text-align: right;\n    }\n</style>\n<table border=\"1\" class=\"dataframe\">\n  <thead>\n    <tr style=\"text-align: right;\">\n      <th></th>\n      <th>0</th>\n      <th>1</th>\n      <th>2</th>\n    </tr>\n  </thead>\n  <tbody>\n    <tr>\n      <th>0</th>\n      <td>2011_09_26/2011_09_26_drive_0002_sync/image_02...</td>\n      <td>2011_09_26_drive_0002_sync/proj_depth/groundtr...</td>\n      <td>886.81</td>\n    </tr>\n    <tr>\n      <th>1</th>\n      <td>2011_09_26/2011_09_26_drive_0002_sync/image_02...</td>\n      <td>2011_09_26_drive_0002_sync/proj_depth/groundtr...</td>\n      <td>886.81</td>\n    </tr>\n    <tr>\n      <th>2</th>\n      <td>2011_09_26/2011_09_26_drive_0002_sync/image_02...</td>\n      <td>2011_09_26_drive_0002_sync/proj_depth/groundtr...</td>\n      <td>886.81</td>\n    </tr>\n    <tr>\n      <th>3</th>\n      <td>2011_09_26/2011_09_26_drive_0002_sync/image_02...</td>\n      <td>2011_09_26_drive_0002_sync/proj_depth/groundtr...</td>\n      <td>886.81</td>\n    </tr>\n    <tr>\n      <th>4</th>\n      <td>2011_09_26/2011_09_26_drive_0002_sync/image_02...</td>\n      <td>2011_09_26_drive_0002_sync/proj_depth/groundtr...</td>\n      <td>886.81</td>\n    </tr>\n    <tr>\n      <th>...</th>\n      <td>...</td>\n      <td>...</td>\n      <td>...</td>\n    </tr>\n    <tr>\n      <th>441</th>\n      <td>2011_09_26/2011_09_26_drive_0013_sync/image_02...</td>\n      <td>2011_09_26_drive_0013_sync/proj_depth/groundtr...</td>\n      <td>886.81</td>\n    </tr>\n    <tr>\n      <th>442</th>\n      <td>2011_09_26/2011_09_26_drive_0013_sync/image_02...</td>\n      <td>2011_09_26_drive_0013_sync/proj_depth/groundtr...</td>\n      <td>886.81</td>\n    </tr>\n    <tr>\n      <th>443</th>\n      <td>2011_09_26/2011_09_26_drive_0013_sync/image_02...</td>\n      <td>2011_09_26_drive_0013_sync/proj_depth/groundtr...</td>\n      <td>886.81</td>\n    </tr>\n    <tr>\n      <th>444</th>\n      <td>2011_09_26/2011_09_26_drive_0013_sync/image_02...</td>\n      <td>2011_09_26_drive_0013_sync/proj_depth/groundtr...</td>\n      <td>886.81</td>\n    </tr>\n    <tr>\n      <th>445</th>\n      <td>2011_09_26/2011_09_26_drive_0013_sync/image_02...</td>\n      <td>2011_09_26_drive_0013_sync/proj_depth/groundtr...</td>\n      <td>886.81</td>\n    </tr>\n  </tbody>\n</table>\n<p>446 rows × 3 columns</p>\n</div>"
     },
     "metadata": {},
     "output_type": "display_data"
    }
   ],
   "source": [
    "# set path to KITTI folder\n",
    "os.chdir('D:\\\\Informatics\\\\Μεταπτυχιακό\\\\Εξάμηνο Γ\\\\dataset\\\\KITTI')\n",
    "\n",
    "display(pd.read_csv('train_diodeaskitti.txt', sep=\" \", header=None))\n",
    "display(pd.read_csv('val_diodeaskitti.txt', sep=\" \", header=None))"
   ],
   "metadata": {
    "collapsed": false,
    "ExecuteTime": {
     "end_time": "2024-03-20T11:46:51.156697Z",
     "start_time": "2024-03-20T11:46:51.099106400Z"
    }
   }
  },
  {
   "cell_type": "markdown",
   "source": [
    "#### Create DIODEASKITTI raw folder structure"
   ],
   "metadata": {
    "collapsed": false
   }
  },
  {
   "cell_type": "code",
   "execution_count": 3,
   "outputs": [],
   "source": [
    "# set path to DIODE folder\n",
    "os.chdir('D:\\\\Informatics\\\\Μεταπτυχιακό\\\\Εξάμηνο Γ\\\\dataset\\\\DIODE')\n",
    "\n",
    "# call the function for 'train' and 'val' data\n",
    "mkraw('train')\n",
    "mkraw('val')"
   ],
   "metadata": {
    "collapsed": false,
    "ExecuteTime": {
     "end_time": "2024-03-30T12:01:48.008289Z",
     "start_time": "2024-03-30T12:01:31.487666Z"
    }
   }
  },
  {
   "cell_type": "markdown",
   "source": [
    "#### Create DIODEASKITTI depth folder structure"
   ],
   "metadata": {
    "collapsed": false
   }
  },
  {
   "cell_type": "code",
   "execution_count": 5,
   "outputs": [],
   "source": [
    "# set path to DIODE folder\n",
    "os.chdir('D:\\\\Informatics\\\\Μεταπτυχιακό\\\\Εξάμηνο Γ\\\\dataset\\\\DIODE')\n",
    "\n",
    "# call the function for 'train' and 'val' data\n",
    "mkdepth('train')\n",
    "mkdepth('val')"
   ],
   "metadata": {
    "collapsed": false,
    "ExecuteTime": {
     "end_time": "2024-03-30T12:04:19.881736400Z",
     "start_time": "2024-03-30T12:03:58.398498900Z"
    }
   }
  },
  {
   "cell_type": "code",
   "execution_count": null,
   "outputs": [],
   "source": [],
   "metadata": {
    "collapsed": false
   }
  }
 ],
 "metadata": {
  "kernelspec": {
   "display_name": "Python 3",
   "language": "python",
   "name": "python3"
  },
  "language_info": {
   "codemirror_mode": {
    "name": "ipython",
    "version": 2
   },
   "file_extension": ".py",
   "mimetype": "text/x-python",
   "name": "python",
   "nbconvert_exporter": "python",
   "pygments_lexer": "ipython2",
   "version": "2.7.6"
  }
 },
 "nbformat": 4,
 "nbformat_minor": 0
}
