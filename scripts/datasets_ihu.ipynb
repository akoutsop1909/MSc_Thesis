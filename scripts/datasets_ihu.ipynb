{
 "cells": [
  {
   "cell_type": "markdown",
   "source": [
    "#### Import packages"
   ],
   "metadata": {
    "collapsed": false
   }
  },
  {
   "cell_type": "code",
   "execution_count": 1,
   "outputs": [],
   "source": [
    "from PIL import Image\n",
    "import pandas as pd\n",
    "import os"
   ],
   "metadata": {
    "collapsed": false,
    "ExecuteTime": {
     "end_time": "2024-03-20T11:38:59.974266100Z",
     "start_time": "2024-03-20T11:38:58.897005100Z"
    }
   }
  },
  {
   "cell_type": "markdown",
   "source": [
    "#### Set Current Working Directory"
   ],
   "metadata": {
    "collapsed": false
   }
  },
  {
   "cell_type": "code",
   "execution_count": 2,
   "outputs": [],
   "source": [
    "# set path to IHU folder\n",
    "os.chdir('D:\\\\Informatics\\\\Μεταπτυχιακό\\\\Εξάμηνο Γ\\\\dataset\\\\IHU')"
   ],
   "metadata": {
    "collapsed": false,
    "ExecuteTime": {
     "end_time": "2024-03-20T11:39:10.282299200Z",
     "start_time": "2024-03-20T11:39:10.270296200Z"
    }
   }
  },
  {
   "cell_type": "markdown",
   "source": [
    "#### Resize IHU dataset"
   ],
   "metadata": {
    "collapsed": false
   }
  },
  {
   "cell_type": "code",
   "execution_count": 2,
   "outputs": [],
   "source": [
    "source = 'ihu_image'\n",
    "dest = 'ihu_resized'\n",
    "\n",
    "files_raw = os.listdir(source)\n",
    "\n",
    "if not os.path.exists(dest):\n",
    "        os.makedirs(dest)\n",
    "\n",
    "for file in files_raw:\n",
    "    image = Image.open(source+'\\\\'+file)\n",
    "    new_image = image.resize((1024, 768))\n",
    "    new_image.save(dest+'\\\\'+file)"
   ],
   "metadata": {
    "collapsed": false,
    "ExecuteTime": {
     "end_time": "2024-03-19T10:48:26.215650900Z",
     "start_time": "2024-03-19T10:48:20.720387500Z"
    }
   }
  },
  {
   "cell_type": "markdown",
   "source": [
    "#### Create IHU CSV file (relative path)"
   ],
   "metadata": {
    "collapsed": false
   }
  },
  {
   "cell_type": "code",
   "execution_count": 2,
   "metadata": {
    "collapsed": true,
    "ExecuteTime": {
     "end_time": "2024-03-14T11:25:53.491197600Z",
     "start_time": "2024-03-14T11:25:53.482127100Z"
    }
   },
   "outputs": [],
   "source": [
    "files_raw = os.listdir('ihu_resized')\n",
    "\n",
    "df = pd.DataFrame({'image':files_raw})\n",
    "df['image'] = './ihu_resized/' + df['image']\n",
    "df.to_csv('ihu.csv', index=False, header=None)"
   ]
  },
  {
   "cell_type": "markdown",
   "source": [
    "#### Display the file"
   ],
   "metadata": {
    "collapsed": false
   }
  },
  {
   "cell_type": "code",
   "execution_count": 4,
   "outputs": [
    {
     "data": {
      "text/plain": "    ./ihu_resized/20231019_175238.jpg\n0   ./ihu_resized/20231019_175308.jpg\n1   ./ihu_resized/20231019_175423.jpg\n2   ./ihu_resized/20231019_175447.jpg\n3   ./ihu_resized/20231019_175523.jpg\n4   ./ihu_resized/20231019_175604.jpg\n5   ./ihu_resized/20231019_175630.jpg\n6   ./ihu_resized/20231019_175653.jpg\n7   ./ihu_resized/20231019_175735.jpg\n8   ./ihu_resized/20231019_175824.jpg\n9   ./ihu_resized/20231019_175904.jpg\n10  ./ihu_resized/20231019_180628.jpg\n11  ./ihu_resized/20231019_180908.jpg\n12  ./ihu_resized/20231019_180951.jpg\n13  ./ihu_resized/20231019_181148.jpg\n14  ./ihu_resized/20231019_181309.jpg\n15  ./ihu_resized/20231019_181325.jpg\n16  ./ihu_resized/20231019_181412.jpg\n17  ./ihu_resized/20231019_181456.jpg\n18  ./ihu_resized/20231019_181544.jpg\n19  ./ihu_resized/20231019_181651.jpg\n20  ./ihu_resized/20231019_181718.jpg\n21  ./ihu_resized/20231019_181757.jpg\n22  ./ihu_resized/20231019_181807.jpg\n23  ./ihu_resized/20231019_181906.jpg\n24  ./ihu_resized/20231019_181934.jpg\n25  ./ihu_resized/20231019_182114.jpg\n26  ./ihu_resized/20231019_182140.jpg\n27  ./ihu_resized/20231019_182219.jpg\n28  ./ihu_resized/20231019_182446.jpg",
      "text/html": "<div>\n<style scoped>\n    .dataframe tbody tr th:only-of-type {\n        vertical-align: middle;\n    }\n\n    .dataframe tbody tr th {\n        vertical-align: top;\n    }\n\n    .dataframe thead th {\n        text-align: right;\n    }\n</style>\n<table border=\"1\" class=\"dataframe\">\n  <thead>\n    <tr style=\"text-align: right;\">\n      <th></th>\n      <th>./ihu_resized/20231019_175238.jpg</th>\n    </tr>\n  </thead>\n  <tbody>\n    <tr>\n      <th>0</th>\n      <td>./ihu_resized/20231019_175308.jpg</td>\n    </tr>\n    <tr>\n      <th>1</th>\n      <td>./ihu_resized/20231019_175423.jpg</td>\n    </tr>\n    <tr>\n      <th>2</th>\n      <td>./ihu_resized/20231019_175447.jpg</td>\n    </tr>\n    <tr>\n      <th>3</th>\n      <td>./ihu_resized/20231019_175523.jpg</td>\n    </tr>\n    <tr>\n      <th>4</th>\n      <td>./ihu_resized/20231019_175604.jpg</td>\n    </tr>\n    <tr>\n      <th>5</th>\n      <td>./ihu_resized/20231019_175630.jpg</td>\n    </tr>\n    <tr>\n      <th>6</th>\n      <td>./ihu_resized/20231019_175653.jpg</td>\n    </tr>\n    <tr>\n      <th>7</th>\n      <td>./ihu_resized/20231019_175735.jpg</td>\n    </tr>\n    <tr>\n      <th>8</th>\n      <td>./ihu_resized/20231019_175824.jpg</td>\n    </tr>\n    <tr>\n      <th>9</th>\n      <td>./ihu_resized/20231019_175904.jpg</td>\n    </tr>\n    <tr>\n      <th>10</th>\n      <td>./ihu_resized/20231019_180628.jpg</td>\n    </tr>\n    <tr>\n      <th>11</th>\n      <td>./ihu_resized/20231019_180908.jpg</td>\n    </tr>\n    <tr>\n      <th>12</th>\n      <td>./ihu_resized/20231019_180951.jpg</td>\n    </tr>\n    <tr>\n      <th>13</th>\n      <td>./ihu_resized/20231019_181148.jpg</td>\n    </tr>\n    <tr>\n      <th>14</th>\n      <td>./ihu_resized/20231019_181309.jpg</td>\n    </tr>\n    <tr>\n      <th>15</th>\n      <td>./ihu_resized/20231019_181325.jpg</td>\n    </tr>\n    <tr>\n      <th>16</th>\n      <td>./ihu_resized/20231019_181412.jpg</td>\n    </tr>\n    <tr>\n      <th>17</th>\n      <td>./ihu_resized/20231019_181456.jpg</td>\n    </tr>\n    <tr>\n      <th>18</th>\n      <td>./ihu_resized/20231019_181544.jpg</td>\n    </tr>\n    <tr>\n      <th>19</th>\n      <td>./ihu_resized/20231019_181651.jpg</td>\n    </tr>\n    <tr>\n      <th>20</th>\n      <td>./ihu_resized/20231019_181718.jpg</td>\n    </tr>\n    <tr>\n      <th>21</th>\n      <td>./ihu_resized/20231019_181757.jpg</td>\n    </tr>\n    <tr>\n      <th>22</th>\n      <td>./ihu_resized/20231019_181807.jpg</td>\n    </tr>\n    <tr>\n      <th>23</th>\n      <td>./ihu_resized/20231019_181906.jpg</td>\n    </tr>\n    <tr>\n      <th>24</th>\n      <td>./ihu_resized/20231019_181934.jpg</td>\n    </tr>\n    <tr>\n      <th>25</th>\n      <td>./ihu_resized/20231019_182114.jpg</td>\n    </tr>\n    <tr>\n      <th>26</th>\n      <td>./ihu_resized/20231019_182140.jpg</td>\n    </tr>\n    <tr>\n      <th>27</th>\n      <td>./ihu_resized/20231019_182219.jpg</td>\n    </tr>\n    <tr>\n      <th>28</th>\n      <td>./ihu_resized/20231019_182446.jpg</td>\n    </tr>\n  </tbody>\n</table>\n</div>"
     },
     "metadata": {},
     "output_type": "display_data"
    }
   ],
   "source": [
    "display(pd.read_csv('ihu.csv'))"
   ],
   "metadata": {
    "collapsed": false,
    "ExecuteTime": {
     "end_time": "2024-03-20T11:42:45.626367500Z",
     "start_time": "2024-03-20T11:42:45.587398800Z"
    }
   }
  },
  {
   "cell_type": "markdown",
   "source": [
    "#### Create IHU TXT file for LapDepth and PixelFormer"
   ],
   "metadata": {
    "collapsed": false
   }
  },
  {
   "cell_type": "code",
   "execution_count": 3,
   "outputs": [],
   "source": [
    "files_raw = os.listdir('ihu_resized')\n",
    "\n",
    "if os.path.exists('ihu.txt'):\n",
    "    os.remove('ihu.txt')\n",
    "file = open('ihu.txt', 'a')\n",
    "\n",
    "for image in files_raw:\n",
    "    file.write('2011_09_26/2011_09_26_drive_ihu_sync/image_02/data/'+image+' 2011_09_26_drive_ihu_sync/proj_depth/groundtruth/image_02/fake.png 886.81\\n')\n",
    "file.close()"
   ],
   "metadata": {
    "collapsed": false,
    "ExecuteTime": {
     "end_time": "2024-03-20T11:39:16.767744300Z",
     "start_time": "2024-03-20T11:39:16.697265500Z"
    }
   }
  },
  {
   "cell_type": "markdown",
   "source": [
    "#### Display the file"
   ],
   "metadata": {
    "collapsed": false
   }
  },
  {
   "cell_type": "code",
   "execution_count": 5,
   "outputs": [
    {
     "data": {
      "text/plain": "                                                    0  \\\n0   2011_09_26/2011_09_26_drive_ihu_sync/image_02/...   \n1   2011_09_26/2011_09_26_drive_ihu_sync/image_02/...   \n2   2011_09_26/2011_09_26_drive_ihu_sync/image_02/...   \n3   2011_09_26/2011_09_26_drive_ihu_sync/image_02/...   \n4   2011_09_26/2011_09_26_drive_ihu_sync/image_02/...   \n5   2011_09_26/2011_09_26_drive_ihu_sync/image_02/...   \n6   2011_09_26/2011_09_26_drive_ihu_sync/image_02/...   \n7   2011_09_26/2011_09_26_drive_ihu_sync/image_02/...   \n8   2011_09_26/2011_09_26_drive_ihu_sync/image_02/...   \n9   2011_09_26/2011_09_26_drive_ihu_sync/image_02/...   \n10  2011_09_26/2011_09_26_drive_ihu_sync/image_02/...   \n11  2011_09_26/2011_09_26_drive_ihu_sync/image_02/...   \n12  2011_09_26/2011_09_26_drive_ihu_sync/image_02/...   \n13  2011_09_26/2011_09_26_drive_ihu_sync/image_02/...   \n14  2011_09_26/2011_09_26_drive_ihu_sync/image_02/...   \n15  2011_09_26/2011_09_26_drive_ihu_sync/image_02/...   \n16  2011_09_26/2011_09_26_drive_ihu_sync/image_02/...   \n17  2011_09_26/2011_09_26_drive_ihu_sync/image_02/...   \n18  2011_09_26/2011_09_26_drive_ihu_sync/image_02/...   \n19  2011_09_26/2011_09_26_drive_ihu_sync/image_02/...   \n20  2011_09_26/2011_09_26_drive_ihu_sync/image_02/...   \n21  2011_09_26/2011_09_26_drive_ihu_sync/image_02/...   \n22  2011_09_26/2011_09_26_drive_ihu_sync/image_02/...   \n23  2011_09_26/2011_09_26_drive_ihu_sync/image_02/...   \n24  2011_09_26/2011_09_26_drive_ihu_sync/image_02/...   \n25  2011_09_26/2011_09_26_drive_ihu_sync/image_02/...   \n26  2011_09_26/2011_09_26_drive_ihu_sync/image_02/...   \n27  2011_09_26/2011_09_26_drive_ihu_sync/image_02/...   \n28  2011_09_26/2011_09_26_drive_ihu_sync/image_02/...   \n29  2011_09_26/2011_09_26_drive_ihu_sync/image_02/...   \n\n                                                    1       2  \n0   2011_09_26_drive_ihu_sync/proj_depth/groundtru...  886.81  \n1   2011_09_26_drive_ihu_sync/proj_depth/groundtru...  886.81  \n2   2011_09_26_drive_ihu_sync/proj_depth/groundtru...  886.81  \n3   2011_09_26_drive_ihu_sync/proj_depth/groundtru...  886.81  \n4   2011_09_26_drive_ihu_sync/proj_depth/groundtru...  886.81  \n5   2011_09_26_drive_ihu_sync/proj_depth/groundtru...  886.81  \n6   2011_09_26_drive_ihu_sync/proj_depth/groundtru...  886.81  \n7   2011_09_26_drive_ihu_sync/proj_depth/groundtru...  886.81  \n8   2011_09_26_drive_ihu_sync/proj_depth/groundtru...  886.81  \n9   2011_09_26_drive_ihu_sync/proj_depth/groundtru...  886.81  \n10  2011_09_26_drive_ihu_sync/proj_depth/groundtru...  886.81  \n11  2011_09_26_drive_ihu_sync/proj_depth/groundtru...  886.81  \n12  2011_09_26_drive_ihu_sync/proj_depth/groundtru...  886.81  \n13  2011_09_26_drive_ihu_sync/proj_depth/groundtru...  886.81  \n14  2011_09_26_drive_ihu_sync/proj_depth/groundtru...  886.81  \n15  2011_09_26_drive_ihu_sync/proj_depth/groundtru...  886.81  \n16  2011_09_26_drive_ihu_sync/proj_depth/groundtru...  886.81  \n17  2011_09_26_drive_ihu_sync/proj_depth/groundtru...  886.81  \n18  2011_09_26_drive_ihu_sync/proj_depth/groundtru...  886.81  \n19  2011_09_26_drive_ihu_sync/proj_depth/groundtru...  886.81  \n20  2011_09_26_drive_ihu_sync/proj_depth/groundtru...  886.81  \n21  2011_09_26_drive_ihu_sync/proj_depth/groundtru...  886.81  \n22  2011_09_26_drive_ihu_sync/proj_depth/groundtru...  886.81  \n23  2011_09_26_drive_ihu_sync/proj_depth/groundtru...  886.81  \n24  2011_09_26_drive_ihu_sync/proj_depth/groundtru...  886.81  \n25  2011_09_26_drive_ihu_sync/proj_depth/groundtru...  886.81  \n26  2011_09_26_drive_ihu_sync/proj_depth/groundtru...  886.81  \n27  2011_09_26_drive_ihu_sync/proj_depth/groundtru...  886.81  \n28  2011_09_26_drive_ihu_sync/proj_depth/groundtru...  886.81  \n29  2011_09_26_drive_ihu_sync/proj_depth/groundtru...  886.81  ",
      "text/html": "<div>\n<style scoped>\n    .dataframe tbody tr th:only-of-type {\n        vertical-align: middle;\n    }\n\n    .dataframe tbody tr th {\n        vertical-align: top;\n    }\n\n    .dataframe thead th {\n        text-align: right;\n    }\n</style>\n<table border=\"1\" class=\"dataframe\">\n  <thead>\n    <tr style=\"text-align: right;\">\n      <th></th>\n      <th>0</th>\n      <th>1</th>\n      <th>2</th>\n    </tr>\n  </thead>\n  <tbody>\n    <tr>\n      <th>0</th>\n      <td>2011_09_26/2011_09_26_drive_ihu_sync/image_02/...</td>\n      <td>2011_09_26_drive_ihu_sync/proj_depth/groundtru...</td>\n      <td>886.81</td>\n    </tr>\n    <tr>\n      <th>1</th>\n      <td>2011_09_26/2011_09_26_drive_ihu_sync/image_02/...</td>\n      <td>2011_09_26_drive_ihu_sync/proj_depth/groundtru...</td>\n      <td>886.81</td>\n    </tr>\n    <tr>\n      <th>2</th>\n      <td>2011_09_26/2011_09_26_drive_ihu_sync/image_02/...</td>\n      <td>2011_09_26_drive_ihu_sync/proj_depth/groundtru...</td>\n      <td>886.81</td>\n    </tr>\n    <tr>\n      <th>3</th>\n      <td>2011_09_26/2011_09_26_drive_ihu_sync/image_02/...</td>\n      <td>2011_09_26_drive_ihu_sync/proj_depth/groundtru...</td>\n      <td>886.81</td>\n    </tr>\n    <tr>\n      <th>4</th>\n      <td>2011_09_26/2011_09_26_drive_ihu_sync/image_02/...</td>\n      <td>2011_09_26_drive_ihu_sync/proj_depth/groundtru...</td>\n      <td>886.81</td>\n    </tr>\n    <tr>\n      <th>5</th>\n      <td>2011_09_26/2011_09_26_drive_ihu_sync/image_02/...</td>\n      <td>2011_09_26_drive_ihu_sync/proj_depth/groundtru...</td>\n      <td>886.81</td>\n    </tr>\n    <tr>\n      <th>6</th>\n      <td>2011_09_26/2011_09_26_drive_ihu_sync/image_02/...</td>\n      <td>2011_09_26_drive_ihu_sync/proj_depth/groundtru...</td>\n      <td>886.81</td>\n    </tr>\n    <tr>\n      <th>7</th>\n      <td>2011_09_26/2011_09_26_drive_ihu_sync/image_02/...</td>\n      <td>2011_09_26_drive_ihu_sync/proj_depth/groundtru...</td>\n      <td>886.81</td>\n    </tr>\n    <tr>\n      <th>8</th>\n      <td>2011_09_26/2011_09_26_drive_ihu_sync/image_02/...</td>\n      <td>2011_09_26_drive_ihu_sync/proj_depth/groundtru...</td>\n      <td>886.81</td>\n    </tr>\n    <tr>\n      <th>9</th>\n      <td>2011_09_26/2011_09_26_drive_ihu_sync/image_02/...</td>\n      <td>2011_09_26_drive_ihu_sync/proj_depth/groundtru...</td>\n      <td>886.81</td>\n    </tr>\n    <tr>\n      <th>10</th>\n      <td>2011_09_26/2011_09_26_drive_ihu_sync/image_02/...</td>\n      <td>2011_09_26_drive_ihu_sync/proj_depth/groundtru...</td>\n      <td>886.81</td>\n    </tr>\n    <tr>\n      <th>11</th>\n      <td>2011_09_26/2011_09_26_drive_ihu_sync/image_02/...</td>\n      <td>2011_09_26_drive_ihu_sync/proj_depth/groundtru...</td>\n      <td>886.81</td>\n    </tr>\n    <tr>\n      <th>12</th>\n      <td>2011_09_26/2011_09_26_drive_ihu_sync/image_02/...</td>\n      <td>2011_09_26_drive_ihu_sync/proj_depth/groundtru...</td>\n      <td>886.81</td>\n    </tr>\n    <tr>\n      <th>13</th>\n      <td>2011_09_26/2011_09_26_drive_ihu_sync/image_02/...</td>\n      <td>2011_09_26_drive_ihu_sync/proj_depth/groundtru...</td>\n      <td>886.81</td>\n    </tr>\n    <tr>\n      <th>14</th>\n      <td>2011_09_26/2011_09_26_drive_ihu_sync/image_02/...</td>\n      <td>2011_09_26_drive_ihu_sync/proj_depth/groundtru...</td>\n      <td>886.81</td>\n    </tr>\n    <tr>\n      <th>15</th>\n      <td>2011_09_26/2011_09_26_drive_ihu_sync/image_02/...</td>\n      <td>2011_09_26_drive_ihu_sync/proj_depth/groundtru...</td>\n      <td>886.81</td>\n    </tr>\n    <tr>\n      <th>16</th>\n      <td>2011_09_26/2011_09_26_drive_ihu_sync/image_02/...</td>\n      <td>2011_09_26_drive_ihu_sync/proj_depth/groundtru...</td>\n      <td>886.81</td>\n    </tr>\n    <tr>\n      <th>17</th>\n      <td>2011_09_26/2011_09_26_drive_ihu_sync/image_02/...</td>\n      <td>2011_09_26_drive_ihu_sync/proj_depth/groundtru...</td>\n      <td>886.81</td>\n    </tr>\n    <tr>\n      <th>18</th>\n      <td>2011_09_26/2011_09_26_drive_ihu_sync/image_02/...</td>\n      <td>2011_09_26_drive_ihu_sync/proj_depth/groundtru...</td>\n      <td>886.81</td>\n    </tr>\n    <tr>\n      <th>19</th>\n      <td>2011_09_26/2011_09_26_drive_ihu_sync/image_02/...</td>\n      <td>2011_09_26_drive_ihu_sync/proj_depth/groundtru...</td>\n      <td>886.81</td>\n    </tr>\n    <tr>\n      <th>20</th>\n      <td>2011_09_26/2011_09_26_drive_ihu_sync/image_02/...</td>\n      <td>2011_09_26_drive_ihu_sync/proj_depth/groundtru...</td>\n      <td>886.81</td>\n    </tr>\n    <tr>\n      <th>21</th>\n      <td>2011_09_26/2011_09_26_drive_ihu_sync/image_02/...</td>\n      <td>2011_09_26_drive_ihu_sync/proj_depth/groundtru...</td>\n      <td>886.81</td>\n    </tr>\n    <tr>\n      <th>22</th>\n      <td>2011_09_26/2011_09_26_drive_ihu_sync/image_02/...</td>\n      <td>2011_09_26_drive_ihu_sync/proj_depth/groundtru...</td>\n      <td>886.81</td>\n    </tr>\n    <tr>\n      <th>23</th>\n      <td>2011_09_26/2011_09_26_drive_ihu_sync/image_02/...</td>\n      <td>2011_09_26_drive_ihu_sync/proj_depth/groundtru...</td>\n      <td>886.81</td>\n    </tr>\n    <tr>\n      <th>24</th>\n      <td>2011_09_26/2011_09_26_drive_ihu_sync/image_02/...</td>\n      <td>2011_09_26_drive_ihu_sync/proj_depth/groundtru...</td>\n      <td>886.81</td>\n    </tr>\n    <tr>\n      <th>25</th>\n      <td>2011_09_26/2011_09_26_drive_ihu_sync/image_02/...</td>\n      <td>2011_09_26_drive_ihu_sync/proj_depth/groundtru...</td>\n      <td>886.81</td>\n    </tr>\n    <tr>\n      <th>26</th>\n      <td>2011_09_26/2011_09_26_drive_ihu_sync/image_02/...</td>\n      <td>2011_09_26_drive_ihu_sync/proj_depth/groundtru...</td>\n      <td>886.81</td>\n    </tr>\n    <tr>\n      <th>27</th>\n      <td>2011_09_26/2011_09_26_drive_ihu_sync/image_02/...</td>\n      <td>2011_09_26_drive_ihu_sync/proj_depth/groundtru...</td>\n      <td>886.81</td>\n    </tr>\n    <tr>\n      <th>28</th>\n      <td>2011_09_26/2011_09_26_drive_ihu_sync/image_02/...</td>\n      <td>2011_09_26_drive_ihu_sync/proj_depth/groundtru...</td>\n      <td>886.81</td>\n    </tr>\n    <tr>\n      <th>29</th>\n      <td>2011_09_26/2011_09_26_drive_ihu_sync/image_02/...</td>\n      <td>2011_09_26_drive_ihu_sync/proj_depth/groundtru...</td>\n      <td>886.81</td>\n    </tr>\n  </tbody>\n</table>\n</div>"
     },
     "metadata": {},
     "output_type": "display_data"
    }
   ],
   "source": [
    "display(pd.read_csv('ihu.txt', sep=\" \", header=None))"
   ],
   "metadata": {
    "collapsed": false,
    "ExecuteTime": {
     "end_time": "2024-03-20T11:45:34.835861300Z",
     "start_time": "2024-03-20T11:45:34.814641700Z"
    }
   }
  },
  {
   "cell_type": "code",
   "execution_count": null,
   "outputs": [],
   "source": [],
   "metadata": {
    "collapsed": false
   }
  }
 ],
 "metadata": {
  "kernelspec": {
   "display_name": "Python 3",
   "language": "python",
   "name": "python3"
  },
  "language_info": {
   "codemirror_mode": {
    "name": "ipython",
    "version": 2
   },
   "file_extension": ".py",
   "mimetype": "text/x-python",
   "name": "python",
   "nbconvert_exporter": "python",
   "pygments_lexer": "ipython2",
   "version": "2.7.6"
  }
 },
 "nbformat": 4,
 "nbformat_minor": 0
}
