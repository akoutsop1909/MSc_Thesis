{
 "cells": [
  {
   "cell_type": "markdown",
   "source": [
    "#### Import packages"
   ],
   "metadata": {
    "collapsed": false
   }
  },
  {
   "cell_type": "code",
   "execution_count": 4,
   "outputs": [],
   "source": [
    "from PIL import Image\n",
    "import pandas as pd\n",
    "import os"
   ],
   "metadata": {
    "collapsed": false,
    "ExecuteTime": {
     "end_time": "2024-03-14T13:34:07.385189900Z",
     "start_time": "2024-03-14T13:34:07.380188400Z"
    }
   }
  },
  {
   "cell_type": "markdown",
   "source": [
    "#### Resize IHU dataset"
   ],
   "metadata": {
    "collapsed": false
   }
  },
  {
   "cell_type": "code",
   "execution_count": 10,
   "outputs": [],
   "source": [
    "os.chdir('D:\\\\Informatics\\\\Μεταπτυχιακό\\\\Εξάμηνο Γ\\\\dataset\\\\IHU')\n",
    "\n",
    "source = 'ihu_image'\n",
    "dest = 'ihu_resized'\n",
    "\n",
    "files_raw = os.listdir(source)\n",
    "\n",
    "if not os.path.exists(dest):\n",
    "        os.makedirs(dest)\n",
    "\n",
    "for i in range(len(files_raw)):\n",
    "    image = Image.open(source+'\\\\'+files_raw[i])\n",
    "    new_image = image.resize((1024, 768))\n",
    "    new_image.save(dest+'\\\\'+files_raw[i])"
   ],
   "metadata": {
    "collapsed": false,
    "ExecuteTime": {
     "end_time": "2023-12-04T14:51:48.595497600Z",
     "start_time": "2023-12-04T14:51:43.983774800Z"
    }
   }
  },
  {
   "cell_type": "markdown",
   "source": [
    "#### Create IHU CSV file (relative path)"
   ],
   "metadata": {
    "collapsed": false
   }
  },
  {
   "cell_type": "code",
   "execution_count": 2,
   "metadata": {
    "collapsed": true,
    "ExecuteTime": {
     "end_time": "2024-03-14T11:25:53.491197600Z",
     "start_time": "2024-03-14T11:25:53.482127100Z"
    }
   },
   "outputs": [],
   "source": [
    "os.chdir('D:\\\\Informatics\\\\Μεταπτυχιακό\\\\Εξάμηνο Γ\\\\dataset\\\\IHU')\n",
    "\n",
    "files_raw = os.listdir('ihu_resized')\n",
    "\n",
    "df = pd.DataFrame({'image':files_raw})\n",
    "df['image'] = './ihu_resized/' + df['image']\n",
    "df.to_csv('ihu.csv', index=False, header=None)"
   ]
  },
  {
   "cell_type": "markdown",
   "source": [
    "#### Create IHU txt file for LapDepth"
   ],
   "metadata": {
    "collapsed": false
   }
  },
  {
   "cell_type": "code",
   "execution_count": 3,
   "outputs": [],
   "source": [
    "os.chdir('D:\\\\Informatics\\\\Μεταπτυχιακό\\\\Εξάμηνο Γ\\\\dataset\\\\IHU')\n",
    "\n",
    "files_raw = os.listdir('ihu_resized')\n",
    "\n",
    "if os.path.exists('ihu.txt'):\n",
    "    os.remove('ihu.txt')\n",
    "file = open('ihu.txt', 'a')\n",
    "\n",
    "for i in range(len(files_raw)):\n",
    "    file.write('2011_09_26/2011_09_26_drive_ihu_sync/image_02/data/'+files_raw[i]+' 2011_09_26_drive_ihu_sync/proj_depth/groundtruth/image_02/fake.png\\n')\n",
    "file.close()"
   ],
   "metadata": {
    "collapsed": false,
    "ExecuteTime": {
     "end_time": "2024-03-14T11:27:40.176137800Z",
     "start_time": "2024-03-14T11:27:40.172634700Z"
    }
   }
  },
  {
   "cell_type": "markdown",
   "source": [
    "#### Create IHU txt file for PixelFormer"
   ],
   "metadata": {
    "collapsed": false
   }
  },
  {
   "cell_type": "code",
   "execution_count": 5,
   "outputs": [],
   "source": [
    "os.chdir('D:\\\\Informatics\\\\Μεταπτυχιακό\\\\Εξάμηνο Γ\\\\dataset\\\\IHU')\n",
    "\n",
    "files_raw = os.listdir('ihu_resized')\n",
    "\n",
    "if os.path.exists('ihu.txt'):\n",
    "    os.remove('ihu.txt')\n",
    "file = open('ihu.txt', 'a')\n",
    "\n",
    "for i in range(len(files_raw)):\n",
    "    file.write('2011_09_26/2011_09_26_drive_ihu_sync/image_02/data/'+files_raw[i]+' 2011_09_26_drive_ihu_sync/proj_depth/groundtruth/image_02/fake.png 886.81\\n')\n",
    "file.close()"
   ],
   "metadata": {
    "collapsed": false,
    "ExecuteTime": {
     "end_time": "2024-03-14T13:34:13.494737700Z",
     "start_time": "2024-03-14T13:34:13.491736600Z"
    }
   }
  },
  {
   "cell_type": "code",
   "execution_count": null,
   "outputs": [],
   "source": [],
   "metadata": {
    "collapsed": false
   }
  }
 ],
 "metadata": {
  "kernelspec": {
   "display_name": "Python 3",
   "language": "python",
   "name": "python3"
  },
  "language_info": {
   "codemirror_mode": {
    "name": "ipython",
    "version": 2
   },
   "file_extension": ".py",
   "mimetype": "text/x-python",
   "name": "python",
   "nbconvert_exporter": "python",
   "pygments_lexer": "ipython2",
   "version": "2.7.6"
  }
 },
 "nbformat": 4,
 "nbformat_minor": 0
}
