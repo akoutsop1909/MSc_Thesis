{
 "cells": [
  {
   "cell_type": "markdown",
   "source": [
    "#### Import packages"
   ],
   "metadata": {
    "collapsed": false
   }
  },
  {
   "cell_type": "code",
   "execution_count": 1,
   "outputs": [],
   "source": [
    "from PIL import Image\n",
    "import pandas as pd\n",
    "import numpy as np\n",
    "import os\n",
    "import shutil"
   ],
   "metadata": {
    "collapsed": false,
    "ExecuteTime": {
     "end_time": "2024-03-20T11:40:29.219568800Z",
     "start_time": "2024-03-20T11:40:28.902487Z"
    }
   }
  },
  {
   "cell_type": "markdown",
   "source": [
    "#### Set Current Working Directory"
   ],
   "metadata": {
    "collapsed": false
   }
  },
  {
   "cell_type": "code",
   "execution_count": 2,
   "outputs": [],
   "source": [
    "# set path to KITTI folder\n",
    "os.chdir('D:\\\\Informatics\\\\Μεταπτυχιακό\\\\Εξάμηνο Γ\\\\dataset\\\\KITTI')"
   ],
   "metadata": {
    "collapsed": false,
    "ExecuteTime": {
     "end_time": "2024-03-20T11:40:31.405338800Z",
     "start_time": "2024-03-20T11:40:31.397207700Z"
    }
   }
  },
  {
   "cell_type": "markdown",
   "source": [
    "#### Copy raw images to new location"
   ],
   "metadata": {
    "collapsed": false
   }
  },
  {
   "cell_type": "code",
   "execution_count": 3,
   "outputs": [],
   "source": [
    "source = 'depth_selection\\\\val_selection_cropped\\\\image'\n",
    "dest = 'kitti_selection\\\\selection_image'\n",
    "\n",
    "files_raw = os.listdir(source)\n",
    "\n",
    "if not os.path.exists(dest):\n",
    "        os.makedirs(dest)\n",
    "\n",
    "for file in files_raw:\n",
    "    shutil.copy(source+'\\\\'+file, dest)"
   ],
   "metadata": {
    "collapsed": false
   }
  },
  {
   "cell_type": "markdown",
   "source": [
    "#### Copy and convert depth PNG files to NPY"
   ],
   "metadata": {
    "collapsed": false
   }
  },
  {
   "cell_type": "code",
   "execution_count": 3,
   "outputs": [],
   "source": [
    "source = 'depth_selection\\\\val_selection_cropped\\\\groundtruth_depth'\n",
    "dest = ['kitti_selection\\\\selection_png', 'kitti_selection\\\\selection_npy']\n",
    "\n",
    "files_depth = os.listdir(source)\n",
    "\n",
    "for path in dest:\n",
    "    if not os.path.exists(path):\n",
    "        os.makedirs(path)\n",
    "\n",
    "for file in files_depth:\n",
    "    shutil.copy(source+'\\\\'+file, dest[0])\n",
    "    img = Image.open(source+'\\\\'+file)\n",
    "    depth = np.asarray(img)\n",
    "    np.save(dest[1]+'\\\\'+file[:-4], depth)"
   ],
   "metadata": {
    "collapsed": false
   }
  },
  {
   "cell_type": "markdown",
   "source": [
    "#### Create KITTI selection CSV file (relative path)"
   ],
   "metadata": {
    "collapsed": false
   }
  },
  {
   "cell_type": "code",
   "execution_count": 7,
   "metadata": {
    "collapsed": true
   },
   "outputs": [],
   "source": [
    "files_raw = os.listdir('kitti_selection\\\\selection_image')\n",
    "files_depth = os.listdir('kitti_selection\\\\selection_npy')\n",
    "\n",
    "df = pd.DataFrame({'image':files_raw, 'npy':files_depth})\n",
    "df['image'] = './kitti_selection/selection_image/' + df['image']\n",
    "df['npy'] = './kitti_selection/selection_npy/' + df['npy']\n",
    "df.to_csv('kitti_selection.csv', index=False, header=None)"
   ]
  },
  {
   "cell_type": "markdown",
   "source": [
    "#### Display the file"
   ],
   "metadata": {
    "collapsed": false
   }
  },
  {
   "cell_type": "code",
   "execution_count": 3,
   "outputs": [
    {
     "data": {
      "text/plain": "    ./kitti_selection/selection_image/2011_09_26_drive_0002_sync_image_0000000005_image_02.png  \\\n0    ./kitti_selection/selection_image/2011_09_26_d...                                           \n1    ./kitti_selection/selection_image/2011_09_26_d...                                           \n2    ./kitti_selection/selection_image/2011_09_26_d...                                           \n3    ./kitti_selection/selection_image/2011_09_26_d...                                           \n4    ./kitti_selection/selection_image/2011_09_26_d...                                           \n..                                                 ...                                           \n994  ./kitti_selection/selection_image/2011_10_03_d...                                           \n995  ./kitti_selection/selection_image/2011_10_03_d...                                           \n996  ./kitti_selection/selection_image/2011_10_03_d...                                           \n997  ./kitti_selection/selection_image/2011_10_03_d...                                           \n998  ./kitti_selection/selection_image/2011_10_03_d...                                           \n\n    ./kitti_selection/selection_npy/2011_09_26_drive_0002_sync_groundtruth_depth_0000000005_image_02.npy  \n0    ./kitti_selection/selection_npy/2011_09_26_dri...                                                    \n1    ./kitti_selection/selection_npy/2011_09_26_dri...                                                    \n2    ./kitti_selection/selection_npy/2011_09_26_dri...                                                    \n3    ./kitti_selection/selection_npy/2011_09_26_dri...                                                    \n4    ./kitti_selection/selection_npy/2011_09_26_dri...                                                    \n..                                                 ...                                                    \n994  ./kitti_selection/selection_npy/2011_10_03_dri...                                                    \n995  ./kitti_selection/selection_npy/2011_10_03_dri...                                                    \n996  ./kitti_selection/selection_npy/2011_10_03_dri...                                                    \n997  ./kitti_selection/selection_npy/2011_10_03_dri...                                                    \n998  ./kitti_selection/selection_npy/2011_10_03_dri...                                                    \n\n[999 rows x 2 columns]",
      "text/html": "<div>\n<style scoped>\n    .dataframe tbody tr th:only-of-type {\n        vertical-align: middle;\n    }\n\n    .dataframe tbody tr th {\n        vertical-align: top;\n    }\n\n    .dataframe thead th {\n        text-align: right;\n    }\n</style>\n<table border=\"1\" class=\"dataframe\">\n  <thead>\n    <tr style=\"text-align: right;\">\n      <th></th>\n      <th>./kitti_selection/selection_image/2011_09_26_drive_0002_sync_image_0000000005_image_02.png</th>\n      <th>./kitti_selection/selection_npy/2011_09_26_drive_0002_sync_groundtruth_depth_0000000005_image_02.npy</th>\n    </tr>\n  </thead>\n  <tbody>\n    <tr>\n      <th>0</th>\n      <td>./kitti_selection/selection_image/2011_09_26_d...</td>\n      <td>./kitti_selection/selection_npy/2011_09_26_dri...</td>\n    </tr>\n    <tr>\n      <th>1</th>\n      <td>./kitti_selection/selection_image/2011_09_26_d...</td>\n      <td>./kitti_selection/selection_npy/2011_09_26_dri...</td>\n    </tr>\n    <tr>\n      <th>2</th>\n      <td>./kitti_selection/selection_image/2011_09_26_d...</td>\n      <td>./kitti_selection/selection_npy/2011_09_26_dri...</td>\n    </tr>\n    <tr>\n      <th>3</th>\n      <td>./kitti_selection/selection_image/2011_09_26_d...</td>\n      <td>./kitti_selection/selection_npy/2011_09_26_dri...</td>\n    </tr>\n    <tr>\n      <th>4</th>\n      <td>./kitti_selection/selection_image/2011_09_26_d...</td>\n      <td>./kitti_selection/selection_npy/2011_09_26_dri...</td>\n    </tr>\n    <tr>\n      <th>...</th>\n      <td>...</td>\n      <td>...</td>\n    </tr>\n    <tr>\n      <th>994</th>\n      <td>./kitti_selection/selection_image/2011_10_03_d...</td>\n      <td>./kitti_selection/selection_npy/2011_10_03_dri...</td>\n    </tr>\n    <tr>\n      <th>995</th>\n      <td>./kitti_selection/selection_image/2011_10_03_d...</td>\n      <td>./kitti_selection/selection_npy/2011_10_03_dri...</td>\n    </tr>\n    <tr>\n      <th>996</th>\n      <td>./kitti_selection/selection_image/2011_10_03_d...</td>\n      <td>./kitti_selection/selection_npy/2011_10_03_dri...</td>\n    </tr>\n    <tr>\n      <th>997</th>\n      <td>./kitti_selection/selection_image/2011_10_03_d...</td>\n      <td>./kitti_selection/selection_npy/2011_10_03_dri...</td>\n    </tr>\n    <tr>\n      <th>998</th>\n      <td>./kitti_selection/selection_image/2011_10_03_d...</td>\n      <td>./kitti_selection/selection_npy/2011_10_03_dri...</td>\n    </tr>\n  </tbody>\n</table>\n<p>999 rows × 2 columns</p>\n</div>"
     },
     "metadata": {},
     "output_type": "display_data"
    }
   ],
   "source": [
    "display(pd.read_csv('kitti_selection.csv'))"
   ],
   "metadata": {
    "collapsed": false,
    "ExecuteTime": {
     "end_time": "2024-03-19T15:34:33.868858900Z",
     "start_time": "2024-03-19T15:34:33.383865600Z"
    }
   }
  },
  {
   "cell_type": "markdown",
   "source": [
    "#### Create KITTI selection TXT file for LapDepth and PixelFormer"
   ],
   "metadata": {
    "collapsed": false
   }
  },
  {
   "cell_type": "code",
   "execution_count": 3,
   "outputs": [],
   "source": [
    "files_raw = os.listdir('kitti_selection\\\\selection_image')\n",
    "files_depth = os.listdir('kitti_selection\\\\selection_png')\n",
    "\n",
    "if os.path.exists('kitti_selection.txt'):\n",
    "    os.remove('kitti_selection.txt')\n",
    "file = open('kitti_selection.txt', 'a')\n",
    "\n",
    "for i in range(len(files_raw)):\n",
    "    file.write('2011_09_26/2011_09_26_drive_0000_sync/image_02/data/'+files_raw[i]+' 2011_09_26_drive_0000_sync/proj_depth/groundtruth/image_02/'+files_depth[i]+' 721.5377\\n')\n",
    "file.close()"
   ],
   "metadata": {
    "collapsed": false,
    "ExecuteTime": {
     "end_time": "2024-03-20T11:41:08.369789500Z",
     "start_time": "2024-03-20T11:41:07.750710800Z"
    }
   }
  },
  {
   "cell_type": "markdown",
   "source": [
    "#### Display the file"
   ],
   "metadata": {
    "collapsed": false
   }
  },
  {
   "cell_type": "code",
   "execution_count": 5,
   "outputs": [
    {
     "data": {
      "text/plain": "                                                     0  \\\n0    2011_09_26/2011_09_26_drive_0000_sync/image_02...   \n1    2011_09_26/2011_09_26_drive_0000_sync/image_02...   \n2    2011_09_26/2011_09_26_drive_0000_sync/image_02...   \n3    2011_09_26/2011_09_26_drive_0000_sync/image_02...   \n4    2011_09_26/2011_09_26_drive_0000_sync/image_02...   \n..                                                 ...   \n995  2011_09_26/2011_09_26_drive_0000_sync/image_02...   \n996  2011_09_26/2011_09_26_drive_0000_sync/image_02...   \n997  2011_09_26/2011_09_26_drive_0000_sync/image_02...   \n998  2011_09_26/2011_09_26_drive_0000_sync/image_02...   \n999  2011_09_26/2011_09_26_drive_0000_sync/image_02...   \n\n                                                     1         2  \n0    2011_09_26_drive_0000_sync/proj_depth/groundtr...  721.5377  \n1    2011_09_26_drive_0000_sync/proj_depth/groundtr...  721.5377  \n2    2011_09_26_drive_0000_sync/proj_depth/groundtr...  721.5377  \n3    2011_09_26_drive_0000_sync/proj_depth/groundtr...  721.5377  \n4    2011_09_26_drive_0000_sync/proj_depth/groundtr...  721.5377  \n..                                                 ...       ...  \n995  2011_09_26_drive_0000_sync/proj_depth/groundtr...  721.5377  \n996  2011_09_26_drive_0000_sync/proj_depth/groundtr...  721.5377  \n997  2011_09_26_drive_0000_sync/proj_depth/groundtr...  721.5377  \n998  2011_09_26_drive_0000_sync/proj_depth/groundtr...  721.5377  \n999  2011_09_26_drive_0000_sync/proj_depth/groundtr...  721.5377  \n\n[1000 rows x 3 columns]",
      "text/html": "<div>\n<style scoped>\n    .dataframe tbody tr th:only-of-type {\n        vertical-align: middle;\n    }\n\n    .dataframe tbody tr th {\n        vertical-align: top;\n    }\n\n    .dataframe thead th {\n        text-align: right;\n    }\n</style>\n<table border=\"1\" class=\"dataframe\">\n  <thead>\n    <tr style=\"text-align: right;\">\n      <th></th>\n      <th>0</th>\n      <th>1</th>\n      <th>2</th>\n    </tr>\n  </thead>\n  <tbody>\n    <tr>\n      <th>0</th>\n      <td>2011_09_26/2011_09_26_drive_0000_sync/image_02...</td>\n      <td>2011_09_26_drive_0000_sync/proj_depth/groundtr...</td>\n      <td>721.5377</td>\n    </tr>\n    <tr>\n      <th>1</th>\n      <td>2011_09_26/2011_09_26_drive_0000_sync/image_02...</td>\n      <td>2011_09_26_drive_0000_sync/proj_depth/groundtr...</td>\n      <td>721.5377</td>\n    </tr>\n    <tr>\n      <th>2</th>\n      <td>2011_09_26/2011_09_26_drive_0000_sync/image_02...</td>\n      <td>2011_09_26_drive_0000_sync/proj_depth/groundtr...</td>\n      <td>721.5377</td>\n    </tr>\n    <tr>\n      <th>3</th>\n      <td>2011_09_26/2011_09_26_drive_0000_sync/image_02...</td>\n      <td>2011_09_26_drive_0000_sync/proj_depth/groundtr...</td>\n      <td>721.5377</td>\n    </tr>\n    <tr>\n      <th>4</th>\n      <td>2011_09_26/2011_09_26_drive_0000_sync/image_02...</td>\n      <td>2011_09_26_drive_0000_sync/proj_depth/groundtr...</td>\n      <td>721.5377</td>\n    </tr>\n    <tr>\n      <th>...</th>\n      <td>...</td>\n      <td>...</td>\n      <td>...</td>\n    </tr>\n    <tr>\n      <th>995</th>\n      <td>2011_09_26/2011_09_26_drive_0000_sync/image_02...</td>\n      <td>2011_09_26_drive_0000_sync/proj_depth/groundtr...</td>\n      <td>721.5377</td>\n    </tr>\n    <tr>\n      <th>996</th>\n      <td>2011_09_26/2011_09_26_drive_0000_sync/image_02...</td>\n      <td>2011_09_26_drive_0000_sync/proj_depth/groundtr...</td>\n      <td>721.5377</td>\n    </tr>\n    <tr>\n      <th>997</th>\n      <td>2011_09_26/2011_09_26_drive_0000_sync/image_02...</td>\n      <td>2011_09_26_drive_0000_sync/proj_depth/groundtr...</td>\n      <td>721.5377</td>\n    </tr>\n    <tr>\n      <th>998</th>\n      <td>2011_09_26/2011_09_26_drive_0000_sync/image_02...</td>\n      <td>2011_09_26_drive_0000_sync/proj_depth/groundtr...</td>\n      <td>721.5377</td>\n    </tr>\n    <tr>\n      <th>999</th>\n      <td>2011_09_26/2011_09_26_drive_0000_sync/image_02...</td>\n      <td>2011_09_26_drive_0000_sync/proj_depth/groundtr...</td>\n      <td>721.5377</td>\n    </tr>\n  </tbody>\n</table>\n<p>1000 rows × 3 columns</p>\n</div>"
     },
     "metadata": {},
     "output_type": "display_data"
    }
   ],
   "source": [
    "display(pd.read_csv('kitti_selection.txt', sep=\" \", header=None))"
   ],
   "metadata": {
    "collapsed": false,
    "ExecuteTime": {
     "end_time": "2024-03-20T11:43:35.588678800Z",
     "start_time": "2024-03-20T11:43:35.562580300Z"
    }
   }
  },
  {
   "cell_type": "code",
   "execution_count": null,
   "outputs": [],
   "source": [],
   "metadata": {
    "collapsed": false
   }
  }
 ],
 "metadata": {
  "kernelspec": {
   "display_name": "Python 3",
   "language": "python",
   "name": "python3"
  },
  "language_info": {
   "codemirror_mode": {
    "name": "ipython",
    "version": 2
   },
   "file_extension": ".py",
   "mimetype": "text/x-python",
   "name": "python",
   "nbconvert_exporter": "python",
   "pygments_lexer": "ipython2",
   "version": "2.7.6"
  }
 },
 "nbformat": 4,
 "nbformat_minor": 0
}
